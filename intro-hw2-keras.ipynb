{
 "cells": [
  {
   "cell_type": "markdown",
   "metadata": {},
   "source": [
    "## Практическое задание\n",
    "\n",
    "<ol>\n",
    "    <li>Попробуйте обучить нейронную сеть на Keras с другими параметрами. \n",
    "        Опишите в комментарии к уроку - какой результата вы добились от нейросети? Что помогло вам улучшить ее точность?</li>\n",
    "    <li>Поработайте с документацией Keras.</li>\n",
    "</ol>"
   ]
  },
  {
   "cell_type": "markdown",
   "metadata": {},
   "source": [
    "## Простая нейросеть на Keras"
   ]
  },
  {
   "cell_type": "code",
   "execution_count": 1,
   "metadata": {},
   "outputs": [
    {
     "name": "stderr",
     "output_type": "stream",
     "text": [
      "C:\\ProgramData\\Anaconda3\\lib\\site-packages\\tensorflow\\python\\framework\\dtypes.py:526: FutureWarning: Passing (type, 1) or '1type' as a synonym of type is deprecated; in a future version of numpy, it will be understood as (type, (1,)) / '(1,)type'.\n",
      "  _np_qint8 = np.dtype([(\"qint8\", np.int8, 1)])\n",
      "C:\\ProgramData\\Anaconda3\\lib\\site-packages\\tensorflow\\python\\framework\\dtypes.py:527: FutureWarning: Passing (type, 1) or '1type' as a synonym of type is deprecated; in a future version of numpy, it will be understood as (type, (1,)) / '(1,)type'.\n",
      "  _np_quint8 = np.dtype([(\"quint8\", np.uint8, 1)])\n",
      "C:\\ProgramData\\Anaconda3\\lib\\site-packages\\tensorflow\\python\\framework\\dtypes.py:528: FutureWarning: Passing (type, 1) or '1type' as a synonym of type is deprecated; in a future version of numpy, it will be understood as (type, (1,)) / '(1,)type'.\n",
      "  _np_qint16 = np.dtype([(\"qint16\", np.int16, 1)])\n",
      "C:\\ProgramData\\Anaconda3\\lib\\site-packages\\tensorflow\\python\\framework\\dtypes.py:529: FutureWarning: Passing (type, 1) or '1type' as a synonym of type is deprecated; in a future version of numpy, it will be understood as (type, (1,)) / '(1,)type'.\n",
      "  _np_quint16 = np.dtype([(\"quint16\", np.uint16, 1)])\n",
      "C:\\ProgramData\\Anaconda3\\lib\\site-packages\\tensorflow\\python\\framework\\dtypes.py:530: FutureWarning: Passing (type, 1) or '1type' as a synonym of type is deprecated; in a future version of numpy, it will be understood as (type, (1,)) / '(1,)type'.\n",
      "  _np_qint32 = np.dtype([(\"qint32\", np.int32, 1)])\n",
      "C:\\ProgramData\\Anaconda3\\lib\\site-packages\\tensorflow\\python\\framework\\dtypes.py:535: FutureWarning: Passing (type, 1) or '1type' as a synonym of type is deprecated; in a future version of numpy, it will be understood as (type, (1,)) / '(1,)type'.\n",
      "  np_resource = np.dtype([(\"resource\", np.ubyte, 1)])\n"
     ]
    }
   ],
   "source": [
    "# 1. Set `PYTHONHASHSEED` environment variable at a fixed value\n",
    "import os\n",
    "os.environ['PYTHONHASHSEED']=str(2)\n",
    "\n",
    "# 2. Set `python` built-in pseudo-random generator at a fixed value\n",
    "import random\n",
    "random.seed(2)\n",
    "\n",
    "# 3. Set `numpy` pseudo-random generator at a fixed value\n",
    "import numpy as np\n",
    "np.random.seed(2)\n",
    "\n",
    "# 4. Set the `tensorflow` pseudo-random generator at a fixed value\n",
    "from tensorflow import set_random_seed\n",
    "set_random_seed(2)"
   ]
  },
  {
   "cell_type": "markdown",
   "metadata": {},
   "source": [
    "Давайте попрубуем сделать нейросеть на Keras использую полученные выше знания. Попробуем обучить нейросеть различать рукописные цифры."
   ]
  },
  {
   "cell_type": "code",
   "execution_count": 2,
   "metadata": {},
   "outputs": [
    {
     "name": "stderr",
     "output_type": "stream",
     "text": [
      "Using TensorFlow backend.\n"
     ]
    }
   ],
   "source": [
    "# The full neural network code!\n",
    "###############################\n",
    "import numpy as np\n",
    "#import mnist\n",
    "from keras.datasets import mnist\n",
    "from keras.models import Sequential\n",
    "from keras.layers import Dense\n",
    "from keras.utils import to_categorical\n",
    "#images, labels = mndata.load_training()\n",
    "\n",
    "#train_images, train_labels, test_images, test_labels = mnist.read_all('.')\n",
    "(train_images, train_labels), (test_images, test_labels) = mnist.load_data()\n",
    "'''\n",
    "train_images = mnist.train_images()\n",
    "train_labels = mnist.train_labels()\n",
    "test_images = mnist.test_images()\n",
    "test_labels = mnist.test_labels()\n",
    "'''\n",
    "# Normalize the images.\n",
    "#train_images = np.array(train_images)\n",
    "#test_images = np.array(test_images)\n",
    "#train_images = train_images\n",
    "#test_images = test_images\n",
    "\n",
    "train_images = (train_images / 255) - 0.5\n",
    "test_images = (test_images / 255) - 0.5\n",
    "# Flatten the images.\n",
    "train_images = train_images.reshape((-1, 784))\n",
    "test_images = test_images.reshape((-1, 784))\n",
    "\n"
   ]
  },
  {
   "cell_type": "code",
   "execution_count": 25,
   "metadata": {},
   "outputs": [],
   "source": [
    "#def accuracy(y_true, y_pred):\n",
    "#    return np.mean(y_true == y_pred)\n"
   ]
  },
  {
   "cell_type": "code",
   "execution_count": 3,
   "metadata": {},
   "outputs": [
    {
     "name": "stdout",
     "output_type": "stream",
     "text": [
      "WARNING:tensorflow:From C:\\ProgramData\\Anaconda3\\lib\\site-packages\\tensorflow\\python\\framework\\op_def_library.py:263: colocate_with (from tensorflow.python.framework.ops) is deprecated and will be removed in a future version.\n",
      "Instructions for updating:\n",
      "Colocations handled automatically by placer.\n",
      "WARNING:tensorflow:From C:\\ProgramData\\Anaconda3\\lib\\site-packages\\tensorflow\\python\\ops\\math_ops.py:3066: to_int32 (from tensorflow.python.ops.math_ops) is deprecated and will be removed in a future version.\n",
      "Instructions for updating:\n",
      "Use tf.cast instead.\n",
      "Epoch 1/20\n",
      "60000/60000 [==============================] - 11s 182us/step - loss: 1.9169 - acc: 0.2283\n",
      "Epoch 2/20\n",
      "60000/60000 [==============================] - 13s 210us/step - loss: 0.8640 - acc: 0.7110\n",
      "Epoch 3/20\n",
      "60000/60000 [==============================] - 9s 153us/step - loss: 0.5408 - acc: 0.8632\n",
      "Epoch 4/20\n",
      "60000/60000 [==============================] - 11s 177us/step - loss: 0.4491 - acc: 0.8895\n",
      "Epoch 5/20\n",
      "60000/60000 [==============================] - 10s 165us/step - loss: 0.3450 - acc: 0.9122\n",
      "Epoch 6/20\n",
      "60000/60000 [==============================] - 9s 154us/step - loss: 0.2878 - acc: 0.9245\n",
      "Epoch 7/20\n",
      "60000/60000 [==============================] - 11s 176us/step - loss: 0.2577 - acc: 0.9316\n",
      "Epoch 8/20\n",
      "60000/60000 [==============================] - 9s 152us/step - loss: 0.2317 - acc: 0.9376\n",
      "Epoch 9/20\n",
      "60000/60000 [==============================] - 8s 136us/step - loss: 0.2096 - acc: 0.9436\n",
      "Epoch 10/20\n",
      "60000/60000 [==============================] - 9s 143us/step - loss: 0.1871 - acc: 0.9503\n",
      "Epoch 11/20\n",
      "60000/60000 [==============================] - 9s 146us/step - loss: 0.1703 - acc: 0.9542\n",
      "Epoch 12/20\n",
      "60000/60000 [==============================] - 8s 138us/step - loss: 0.1544 - acc: 0.9601\n",
      "Epoch 13/20\n",
      "60000/60000 [==============================] - 8s 140us/step - loss: 0.1423 - acc: 0.9627\n",
      "Epoch 14/20\n",
      "60000/60000 [==============================] - 8s 133us/step - loss: 0.1326 - acc: 0.9652\n",
      "Epoch 15/20\n",
      "60000/60000 [==============================] - 8s 136us/step - loss: 0.1233 - acc: 0.9672\n",
      "Epoch 16/20\n",
      "60000/60000 [==============================] - 8s 135us/step - loss: 0.1165 - acc: 0.9686\n",
      "Epoch 17/20\n",
      "60000/60000 [==============================] - 8s 135us/step - loss: 0.1082 - acc: 0.9706\n",
      "Epoch 18/20\n",
      "60000/60000 [==============================] - 8s 132us/step - loss: 0.1035 - acc: 0.9722\n",
      "Epoch 19/20\n",
      "60000/60000 [==============================] - 8s 135us/step - loss: 0.0961 - acc: 0.9742\n",
      "Epoch 20/20\n",
      "60000/60000 [==============================] - 8s 133us/step - loss: 0.0899 - acc: 0.9759\n",
      "10000/10000 [==============================] - 1s 50us/step\n",
      "[7 2 1 0 4]\n",
      "[7 2 1 0 4]\n"
     ]
    }
   ],
   "source": [
    "# Build the model.\n",
    "model = Sequential([\n",
    "  Dense(128, activation='sigmoid', input_shape=(784,)),\n",
    "  Dense(128, activation='sigmoid'),\n",
    "  Dense(128, activation='sigmoid'),\n",
    "  Dense(128, activation='sigmoid'),\n",
    "  Dense(128, activation='sigmoid'),\n",
    "  Dense(128, activation='sigmoid'),\n",
    "  Dense(128, activation='sigmoid'),  \n",
    "  Dense(128, activation='sigmoid'),  \n",
    "  Dense(128, activation='sigmoid'),  \n",
    "  Dense(10, activation='softmax'),\n",
    "])\n",
    "\n",
    "# Compile the model.\n",
    "model.compile(\n",
    "  optimizer='adam',\n",
    "  loss='categorical_crossentropy',\n",
    "  metrics=['accuracy'],\n",
    ")\n",
    "\n",
    "# Train the model.\n",
    "model.fit(\n",
    "  train_images,\n",
    "  to_categorical(train_labels),\n",
    "  epochs=20,\n",
    "  batch_size=32,\n",
    ")\n",
    "\n",
    "# Evaluate the model.\n",
    "model.evaluate(\n",
    "  test_images,\n",
    "  to_categorical(test_labels)\n",
    ")\n",
    "\n",
    "# Save the model to disk.\n",
    "model.save_weights('model.h5')\n",
    "\n",
    "# Load the model from disk later using:\n",
    "# model.load_weights('model.h5')\n",
    "\n",
    "# Predict on the first 5 test images.\n",
    "predictions = model.predict(test_images[:5])\n",
    "\n",
    "# Print our model's predictions.\n",
    "print(np.argmax(predictions, axis=1)) # [7, 2, 1, 0, 4]\n",
    "\n",
    "# Check our predictions against the ground truths.\n",
    "print(test_labels[:5]) # [7, 2, 1, 0, 4]\n",
    "\n",
    "#print(f'Accuracy: {accuracy(test_labels, np.argmax(predictions, axis=1))}')"
   ]
  },
  {
   "cell_type": "markdown",
   "metadata": {},
   "source": [
    "Dense(64, activation='relu', input_shape=(784,)),\n",
    "  Dense(64, activation='relu'),\n",
    "Dense(10, activation='softmax'),\n",
    " epochs=5,\n",
    "  batch_size=32\n",
    "\n",
    "Базовая точность 0.9658"
   ]
  },
  {
   "cell_type": "code",
   "execution_count": null,
   "metadata": {},
   "outputs": [],
   "source": [
    "epochs=20 0.9861, причем на 19ой эпохе было 0.9862"
   ]
  },
  {
   "cell_type": "code",
   "execution_count": null,
   "metadata": {},
   "outputs": [],
   "source": [
    "Увеличим число нейронов в каждом слое и добавим слой\n",
    "model = Sequential([\n",
    "  Dense(512, activation='relu', input_shape=(784,)),\n",
    "  Dense(256, activation='relu'),\n",
    "  Dense(128, activation='relu'),\n",
    "  Dense(10, activation='softmax'),\n",
    "])\n",
    "epoch =20 \n",
    "\n",
    "Заметно выросло время обучения, зато точность 0.9910 и последние эпохи она скакала"
   ]
  },
  {
   "cell_type": "markdown",
   "metadata": {},
   "source": [
    "Увеличим число слоев, 5 эпох\n",
    "model = Sequential([\n",
    "  Dense(64, activation='relu', input_shape=(784,)),\n",
    "  Dense(64, activation='relu'),\n",
    "  Dense(64, activation='relu'),\n",
    "  Dense(64, activation='relu'),\n",
    "  Dense(10, activation='softmax'),\n",
    "])\n",
    "\n",
    "\n",
    "0.9666 точность незначительно выросла\n",
    "\n",
    "Увеличил число слоев до 10 с 128 нейронами, число эпох 20 - 0.9759\n",
    "при 20 эпохах 0.9853, т.е незначительно меньше трехслойной модели\n",
    "на самом деле удивлен,  от повышенного числа слоев ожидал большего\n",
    "Возможно слишком простой датасет"
   ]
  },
  {
   "cell_type": "markdown",
   "metadata": {},
   "source": [
    "Изменение функции активации на sigmoid немного улучшило результат .9683\n",
    "tanh = 0.9689\n",
    "model = Sequential([\n",
    "  Dense(64, activation='sigmoid', input_shape=(784,)),\n",
    "  Dense(64, activation='sigmoid'),\n",
    "  Dense(10, activation='softmax'),\n",
    "])\n",
    "\n",
    "насчет предположений почему, tanh и relu более быстро меняют знак чем сигмоида, поскольку цифры друг на друга похожи мало, общих нейронов для них мало и можно резче отсекать лишние."
   ]
  },
  {
   "cell_type": "markdown",
   "metadata": {},
   "source": [
    "изменение оптимизаторов:\n",
    "    adam.9683\n",
    "    RMSprop -0.9704 \n",
    "    SGD -0.9328\n",
    "    Adagrad 0.9602\n",
    "Удивительно, что adam, будучи вариацией sgd настолько отличается по результату."
   ]
  },
  {
   "cell_type": "code",
   "execution_count": null,
   "metadata": {},
   "outputs": [],
   "source": [
    "изменение функции потерь\n",
    "categorical_crossentropy .9683\n",
    "kullback_leibler_divergence 0.9712\n",
    "mean_squared_error -0.9656 Думал хуже, ведь она рекомендуется для линейной функции активации\n",
    "hinge - 0.9567 -рекомендуется для бинарной классификации, так что неудивительно\n",
    "\n",
    "В целом, не очень значительный параметр.\n"
   ]
  },
  {
   "cell_type": "markdown",
   "metadata": {},
   "source": [
    "Итого, собрал лучше параметры вместе, получил 0.9876 - \n",
    "Хуже чем было в одном из примеров 0.9910\n",
    "Возможно при больших эпохах разница между функциями потерь и оптимизаторами становится меньше, и что-то работает быстрее, но не так точно."
   ]
  },
  {
   "cell_type": "code",
   "execution_count": null,
   "metadata": {},
   "outputs": [],
   "source": []
  },
  {
   "cell_type": "markdown",
   "metadata": {},
   "source": [
    "## 2. Поработайте с документацией Keras."
   ]
  },
  {
   "cell_type": "markdown",
   "metadata": {},
   "source": [
    "1. Возможность переписать функцию обучения модели fit()\n",
    "\n",
    "2. Сохранить не всю модель, а например только веса.\n",
    "\n",
    "3. Masking - как обходить данные, в которых пропущены временные метки."
   ]
  },
  {
   "cell_type": "markdown",
   "metadata": {},
   "source": []
  },
  {
   "cell_type": "markdown",
   "metadata": {},
   "source": [
    "## Дополнительные материалы\n",
    "\n",
    "<ol>\n",
    "    <li>https://keras.io/</li>\n",
    "</ol>"
   ]
  },
  {
   "cell_type": "markdown",
   "metadata": {},
   "source": [
    "## Используемая литература \n",
    "\n",
    "Для подготовки данного методического пособия были использованы следующие ресурсы:\n",
    "<ol>\n",
    "    <li>https://keras.io/</li>\n",
    "    <li>Шакла Н. — Машинное обучение и TensorFlow 2019</li>\n",
    "    <li>Википедия</li>\n",
    "    \n",
    "</ol>"
   ]
  },
  {
   "cell_type": "code",
   "execution_count": null,
   "metadata": {},
   "outputs": [],
   "source": []
  }
 ],
 "metadata": {
  "kernelspec": {
   "display_name": "Python 3",
   "language": "python",
   "name": "python3"
  },
  "language_info": {
   "codemirror_mode": {
    "name": "ipython",
    "version": 3
   },
   "file_extension": ".py",
   "mimetype": "text/x-python",
   "name": "python",
   "nbconvert_exporter": "python",
   "pygments_lexer": "ipython3",
   "version": "3.7.3"
  }
 },
 "nbformat": 4,
 "nbformat_minor": 2
}
