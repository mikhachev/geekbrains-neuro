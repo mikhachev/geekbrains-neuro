{
  "nbformat": 4,
  "nbformat_minor": 0,
  "metadata": {
    "colab": {
      "name": "hw3.ipynb",
      "provenance": [],
      "collapsed_sections": []
    },
    "kernelspec": {
      "name": "python3",
      "display_name": "Python 3"
    },
    "language_info": {
      "name": "python"
    }
  },
  "cells": [
    {
      "cell_type": "markdown",
      "metadata": {
        "id": "Q-_HEtCFNY5k"
      },
      "source": [
        "*Курсив*## ДЗ 3 — в процессе\n",
        "Необходимо скачать и подготовить датасет https://www.kaggle.com/olekslu/makeup-lips-segmentation-28k-samples/notebooks для обучения модели на губы\n",
        "И затем обучить Модель на выбор из segmentation_models_pytorch\n"
      ]
    },
    {
      "cell_type": "code",
      "metadata": {
        "id": "hNJDnP3zNT-h"
      },
      "source": [
        "import numpy as np\n",
        "import pandas as pd\n",
        "import os\n",
        "import matplotlib.pyplot as plt\n",
        "import cv2\n",
        "from google.colab import drive\n",
        "\n",
        "\n",
        "from torch.utils.data import Dataset, DataLoader\n",
        "from PIL import Image\n",
        "import torch\n",
        "from torch.nn import functional as F\n",
        "import torch.nn as nn\n",
        "from pathlib import Path\n"
      ],
      "execution_count": 69,
      "outputs": []
    },
    {
      "cell_type": "code",
      "metadata": {
        "colab": {
          "base_uri": "https://localhost:8080/"
        },
        "id": "eFvPhBtKOJZv",
        "outputId": "8b3d4213-f7af-40f8-dbb1-58790d4fd8b5"
      },
      "source": [
        "drive.mount('/content/drive/')"
      ],
      "execution_count": null,
      "outputs": [
        {
          "output_type": "stream",
          "text": [
            "Mounted at /content/drive/\n"
          ],
          "name": "stdout"
        }
      ]
    },
    {
      "cell_type": "code",
      "metadata": {
        "id": "CAbosmGlOPAz"
      },
      "source": [
        "read_img = '/content/drive/MyDrive/Colab Notebooks/data/set-lipstick-original/images/'\n",
        "read_mask = '/content/drive/MyDrive/Colab Notebooks/data/set-lipstick-original/mask/'\n"
      ],
      "execution_count": 43,
      "outputs": []
    },
    {
      "cell_type": "code",
      "metadata": {
        "id": "TYMn2WG7OPEL"
      },
      "source": [
        "read_img = []\n",
        "read_mask = []\n",
        "for root, dirs, files in os.walk('/content/drive/MyDrive/Colab Notebooks/data/set-lipstick-original/'):\n",
        "    for name in files:\n",
        "        f = os.path.join(root, name)\n",
        "        if 'images' in f:\n",
        "            read_img.append(f)\n",
        "        elif 'mask' in f:\n",
        "            read_mask.append(f)\n",
        "        else:\n",
        "            break\n",
        "\n"
      ],
      "execution_count": 45,
      "outputs": []
    },
    {
      "cell_type": "code",
      "metadata": {
        "colab": {
          "base_uri": "https://localhost:8080/",
          "height": 481
        },
        "id": "jTe04gLbRgTl",
        "outputId": "52aaf548-e2ae-4585-e4ee-f5140874bd12"
      },
      "source": [
        "pd.set_option('display.max_colwidth', -1)\n",
        "mask = pd.DataFrame(read_mask, columns = ['mask'])\n",
        "mask['ind'] = mask['mask'].replace(regex = True, to_replace = '.*\\\\\\\\' , value = '').replace(regex = True, to_replace = '\\D' , value = '')\n",
        "#mask = mask.set_index('ind')\n",
        "mask\n"
      ],
      "execution_count": 54,
      "outputs": [
        {
          "output_type": "stream",
          "text": [
            "/usr/local/lib/python3.7/dist-packages/ipykernel_launcher.py:1: FutureWarning: Passing a negative integer is deprecated in version 1.0 and will not be supported in future version. Instead, use None to not limit the column width.\n",
            "  \"\"\"Entry point for launching an IPython kernel.\n"
          ],
          "name": "stderr"
        },
        {
          "output_type": "execute_result",
          "data": {
            "text/html": [
              "<div>\n",
              "<style scoped>\n",
              "    .dataframe tbody tr th:only-of-type {\n",
              "        vertical-align: middle;\n",
              "    }\n",
              "\n",
              "    .dataframe tbody tr th {\n",
              "        vertical-align: top;\n",
              "    }\n",
              "\n",
              "    .dataframe thead th {\n",
              "        text-align: right;\n",
              "    }\n",
              "</style>\n",
              "<table border=\"1\" class=\"dataframe\">\n",
              "  <thead>\n",
              "    <tr style=\"text-align: right;\">\n",
              "      <th></th>\n",
              "      <th>mask</th>\n",
              "      <th>ind</th>\n",
              "    </tr>\n",
              "  </thead>\n",
              "  <tbody>\n",
              "    <tr>\n",
              "      <th>0</th>\n",
              "      <td>/content/drive/MyDrive/Colab Notebooks/data/set-lipstick-original/mask/mask00000027.png</td>\n",
              "      <td>00000027</td>\n",
              "    </tr>\n",
              "    <tr>\n",
              "      <th>1</th>\n",
              "      <td>/content/drive/MyDrive/Colab Notebooks/data/set-lipstick-original/mask/mask00000024.png</td>\n",
              "      <td>00000024</td>\n",
              "    </tr>\n",
              "    <tr>\n",
              "      <th>2</th>\n",
              "      <td>/content/drive/MyDrive/Colab Notebooks/data/set-lipstick-original/mask/mask00000025.png</td>\n",
              "      <td>00000025</td>\n",
              "    </tr>\n",
              "    <tr>\n",
              "      <th>3</th>\n",
              "      <td>/content/drive/MyDrive/Colab Notebooks/data/set-lipstick-original/mask/mask00000023.png</td>\n",
              "      <td>00000023</td>\n",
              "    </tr>\n",
              "    <tr>\n",
              "      <th>4</th>\n",
              "      <td>/content/drive/MyDrive/Colab Notebooks/data/set-lipstick-original/mask/mask00000030.png</td>\n",
              "      <td>00000030</td>\n",
              "    </tr>\n",
              "    <tr>\n",
              "      <th>...</th>\n",
              "      <td>...</td>\n",
              "      <td>...</td>\n",
              "    </tr>\n",
              "    <tr>\n",
              "      <th>6704</th>\n",
              "      <td>/content/drive/MyDrive/Colab Notebooks/data/set-lipstick-original/mask/mask00006666.png</td>\n",
              "      <td>00006666</td>\n",
              "    </tr>\n",
              "    <tr>\n",
              "      <th>6705</th>\n",
              "      <td>/content/drive/MyDrive/Colab Notebooks/data/set-lipstick-original/mask/mask00006675.png</td>\n",
              "      <td>00006675</td>\n",
              "    </tr>\n",
              "    <tr>\n",
              "      <th>6706</th>\n",
              "      <td>/content/drive/MyDrive/Colab Notebooks/data/set-lipstick-original/mask/mask00006674.png</td>\n",
              "      <td>00006674</td>\n",
              "    </tr>\n",
              "    <tr>\n",
              "      <th>6707</th>\n",
              "      <td>/content/drive/MyDrive/Colab Notebooks/data/set-lipstick-original/mask/mask00006665.png</td>\n",
              "      <td>00006665</td>\n",
              "    </tr>\n",
              "    <tr>\n",
              "      <th>6708</th>\n",
              "      <td>/content/drive/MyDrive/Colab Notebooks/data/set-lipstick-original/mask/mask00006664.png</td>\n",
              "      <td>00006664</td>\n",
              "    </tr>\n",
              "  </tbody>\n",
              "</table>\n",
              "<p>6709 rows × 2 columns</p>\n",
              "</div>"
            ],
            "text/plain": [
              "                                                                                         mask       ind\n",
              "0     /content/drive/MyDrive/Colab Notebooks/data/set-lipstick-original/mask/mask00000027.png  00000027\n",
              "1     /content/drive/MyDrive/Colab Notebooks/data/set-lipstick-original/mask/mask00000024.png  00000024\n",
              "2     /content/drive/MyDrive/Colab Notebooks/data/set-lipstick-original/mask/mask00000025.png  00000025\n",
              "3     /content/drive/MyDrive/Colab Notebooks/data/set-lipstick-original/mask/mask00000023.png  00000023\n",
              "4     /content/drive/MyDrive/Colab Notebooks/data/set-lipstick-original/mask/mask00000030.png  00000030\n",
              "...                                                                                       ...       ...\n",
              "6704  /content/drive/MyDrive/Colab Notebooks/data/set-lipstick-original/mask/mask00006666.png  00006666\n",
              "6705  /content/drive/MyDrive/Colab Notebooks/data/set-lipstick-original/mask/mask00006675.png  00006675\n",
              "6706  /content/drive/MyDrive/Colab Notebooks/data/set-lipstick-original/mask/mask00006674.png  00006674\n",
              "6707  /content/drive/MyDrive/Colab Notebooks/data/set-lipstick-original/mask/mask00006665.png  00006665\n",
              "6708  /content/drive/MyDrive/Colab Notebooks/data/set-lipstick-original/mask/mask00006664.png  00006664\n",
              "\n",
              "[6709 rows x 2 columns]"
            ]
          },
          "metadata": {
            "tags": []
          },
          "execution_count": 54
        }
      ]
    },
    {
      "cell_type": "code",
      "metadata": {
        "colab": {
          "base_uri": "https://localhost:8080/",
          "height": 424
        },
        "id": "-k8TsqLhlgp7",
        "outputId": "c16acf66-cc3f-4eb8-9fee-113ed21b4607"
      },
      "source": [
        "lips = pd.DataFrame(read_img , columns = ['lips'])\n",
        "lips['ind'] = lips['lips'].replace(regex = True, to_replace = '.*\\\\\\\\' , value = '').replace(regex = True, to_replace = '\\D' , value = '')\n",
        "#lips.set_index('ind')\n",
        "lips"
      ],
      "execution_count": 56,
      "outputs": [
        {
          "output_type": "execute_result",
          "data": {
            "text/html": [
              "<div>\n",
              "<style scoped>\n",
              "    .dataframe tbody tr th:only-of-type {\n",
              "        vertical-align: middle;\n",
              "    }\n",
              "\n",
              "    .dataframe tbody tr th {\n",
              "        vertical-align: top;\n",
              "    }\n",
              "\n",
              "    .dataframe thead th {\n",
              "        text-align: right;\n",
              "    }\n",
              "</style>\n",
              "<table border=\"1\" class=\"dataframe\">\n",
              "  <thead>\n",
              "    <tr style=\"text-align: right;\">\n",
              "      <th></th>\n",
              "      <th>lips</th>\n",
              "      <th>ind</th>\n",
              "    </tr>\n",
              "  </thead>\n",
              "  <tbody>\n",
              "    <tr>\n",
              "      <th>0</th>\n",
              "      <td>/content/drive/MyDrive/Colab Notebooks/data/set-lipstick-original/images/image00027049.jpg</td>\n",
              "      <td>00027049</td>\n",
              "    </tr>\n",
              "    <tr>\n",
              "      <th>1</th>\n",
              "      <td>/content/drive/MyDrive/Colab Notebooks/data/set-lipstick-original/images/image00027253.jpg</td>\n",
              "      <td>00027253</td>\n",
              "    </tr>\n",
              "    <tr>\n",
              "      <th>2</th>\n",
              "      <td>/content/drive/MyDrive/Colab Notebooks/data/set-lipstick-original/images/image00027087.jpg</td>\n",
              "      <td>00027087</td>\n",
              "    </tr>\n",
              "    <tr>\n",
              "      <th>3</th>\n",
              "      <td>/content/drive/MyDrive/Colab Notebooks/data/set-lipstick-original/images/image00027320.jpg</td>\n",
              "      <td>00027320</td>\n",
              "    </tr>\n",
              "    <tr>\n",
              "      <th>4</th>\n",
              "      <td>/content/drive/MyDrive/Colab Notebooks/data/set-lipstick-original/images/image00027083.jpg</td>\n",
              "      <td>00027083</td>\n",
              "    </tr>\n",
              "    <tr>\n",
              "      <th>...</th>\n",
              "      <td>...</td>\n",
              "      <td>...</td>\n",
              "    </tr>\n",
              "    <tr>\n",
              "      <th>28065</th>\n",
              "      <td>/content/drive/MyDrive/Colab Notebooks/data/set-lipstick-original/images/image00000066.jpg</td>\n",
              "      <td>00000066</td>\n",
              "    </tr>\n",
              "    <tr>\n",
              "      <th>28066</th>\n",
              "      <td>/content/drive/MyDrive/Colab Notebooks/data/set-lipstick-original/images/image00000062.jpg</td>\n",
              "      <td>00000062</td>\n",
              "    </tr>\n",
              "    <tr>\n",
              "      <th>28067</th>\n",
              "      <td>/content/drive/MyDrive/Colab Notebooks/data/set-lipstick-original/images/image00000079.jpg</td>\n",
              "      <td>00000079</td>\n",
              "    </tr>\n",
              "    <tr>\n",
              "      <th>28068</th>\n",
              "      <td>/content/drive/MyDrive/Colab Notebooks/data/set-lipstick-original/images/image00000068.jpg</td>\n",
              "      <td>00000068</td>\n",
              "    </tr>\n",
              "    <tr>\n",
              "      <th>28069</th>\n",
              "      <td>/content/drive/MyDrive/Colab Notebooks/data/set-lipstick-original/images/image00000069.jpg</td>\n",
              "      <td>00000069</td>\n",
              "    </tr>\n",
              "  </tbody>\n",
              "</table>\n",
              "<p>28070 rows × 2 columns</p>\n",
              "</div>"
            ],
            "text/plain": [
              "                                                                                             lips       ind\n",
              "0      /content/drive/MyDrive/Colab Notebooks/data/set-lipstick-original/images/image00027049.jpg  00027049\n",
              "1      /content/drive/MyDrive/Colab Notebooks/data/set-lipstick-original/images/image00027253.jpg  00027253\n",
              "2      /content/drive/MyDrive/Colab Notebooks/data/set-lipstick-original/images/image00027087.jpg  00027087\n",
              "3      /content/drive/MyDrive/Colab Notebooks/data/set-lipstick-original/images/image00027320.jpg  00027320\n",
              "4      /content/drive/MyDrive/Colab Notebooks/data/set-lipstick-original/images/image00027083.jpg  00027083\n",
              "...                                                                                           ...       ...\n",
              "28065  /content/drive/MyDrive/Colab Notebooks/data/set-lipstick-original/images/image00000066.jpg  00000066\n",
              "28066  /content/drive/MyDrive/Colab Notebooks/data/set-lipstick-original/images/image00000062.jpg  00000062\n",
              "28067  /content/drive/MyDrive/Colab Notebooks/data/set-lipstick-original/images/image00000079.jpg  00000079\n",
              "28068  /content/drive/MyDrive/Colab Notebooks/data/set-lipstick-original/images/image00000068.jpg  00000068\n",
              "28069  /content/drive/MyDrive/Colab Notebooks/data/set-lipstick-original/images/image00000069.jpg  00000069\n",
              "\n",
              "[28070 rows x 2 columns]"
            ]
          },
          "metadata": {
            "tags": []
          },
          "execution_count": 56
        }
      ]
    },
    {
      "cell_type": "code",
      "metadata": {
        "colab": {
          "base_uri": "https://localhost:8080/",
          "height": 206
        },
        "id": "p3-2qXTGRgbk",
        "outputId": "0ece973e-2b27-4ff1-f3f6-1312ee020dc9"
      },
      "source": [
        "df = lips.merge(mask).drop(['ind'], axis = 1)\n",
        "# Отсортируем  датафрейм по значениям\n",
        "df.sort_values(by='lips',inplace=True)\n",
        "df.reset_index(drop=True, inplace=True)\n",
        "df.head(5)"
      ],
      "execution_count": 57,
      "outputs": [
        {
          "output_type": "execute_result",
          "data": {
            "text/html": [
              "<div>\n",
              "<style scoped>\n",
              "    .dataframe tbody tr th:only-of-type {\n",
              "        vertical-align: middle;\n",
              "    }\n",
              "\n",
              "    .dataframe tbody tr th {\n",
              "        vertical-align: top;\n",
              "    }\n",
              "\n",
              "    .dataframe thead th {\n",
              "        text-align: right;\n",
              "    }\n",
              "</style>\n",
              "<table border=\"1\" class=\"dataframe\">\n",
              "  <thead>\n",
              "    <tr style=\"text-align: right;\">\n",
              "      <th></th>\n",
              "      <th>lips</th>\n",
              "      <th>mask</th>\n",
              "    </tr>\n",
              "  </thead>\n",
              "  <tbody>\n",
              "    <tr>\n",
              "      <th>0</th>\n",
              "      <td>/content/drive/MyDrive/Colab Notebooks/data/set-lipstick-original/images/image00000001.jpg</td>\n",
              "      <td>/content/drive/MyDrive/Colab Notebooks/data/set-lipstick-original/mask/mask00000001.png</td>\n",
              "    </tr>\n",
              "    <tr>\n",
              "      <th>1</th>\n",
              "      <td>/content/drive/MyDrive/Colab Notebooks/data/set-lipstick-original/images/image00000002.jpg</td>\n",
              "      <td>/content/drive/MyDrive/Colab Notebooks/data/set-lipstick-original/mask/mask00000002.png</td>\n",
              "    </tr>\n",
              "    <tr>\n",
              "      <th>2</th>\n",
              "      <td>/content/drive/MyDrive/Colab Notebooks/data/set-lipstick-original/images/image00000003.jpg</td>\n",
              "      <td>/content/drive/MyDrive/Colab Notebooks/data/set-lipstick-original/mask/mask00000003.png</td>\n",
              "    </tr>\n",
              "    <tr>\n",
              "      <th>3</th>\n",
              "      <td>/content/drive/MyDrive/Colab Notebooks/data/set-lipstick-original/images/image00000004.jpg</td>\n",
              "      <td>/content/drive/MyDrive/Colab Notebooks/data/set-lipstick-original/mask/mask00000004.png</td>\n",
              "    </tr>\n",
              "    <tr>\n",
              "      <th>4</th>\n",
              "      <td>/content/drive/MyDrive/Colab Notebooks/data/set-lipstick-original/images/image00000005.jpg</td>\n",
              "      <td>/content/drive/MyDrive/Colab Notebooks/data/set-lipstick-original/mask/mask00000005.png</td>\n",
              "    </tr>\n",
              "  </tbody>\n",
              "</table>\n",
              "</div>"
            ],
            "text/plain": [
              "                                                                                         lips                                                                                     mask\n",
              "0  /content/drive/MyDrive/Colab Notebooks/data/set-lipstick-original/images/image00000001.jpg  /content/drive/MyDrive/Colab Notebooks/data/set-lipstick-original/mask/mask00000001.png\n",
              "1  /content/drive/MyDrive/Colab Notebooks/data/set-lipstick-original/images/image00000002.jpg  /content/drive/MyDrive/Colab Notebooks/data/set-lipstick-original/mask/mask00000002.png\n",
              "2  /content/drive/MyDrive/Colab Notebooks/data/set-lipstick-original/images/image00000003.jpg  /content/drive/MyDrive/Colab Notebooks/data/set-lipstick-original/mask/mask00000003.png\n",
              "3  /content/drive/MyDrive/Colab Notebooks/data/set-lipstick-original/images/image00000004.jpg  /content/drive/MyDrive/Colab Notebooks/data/set-lipstick-original/mask/mask00000004.png\n",
              "4  /content/drive/MyDrive/Colab Notebooks/data/set-lipstick-original/images/image00000005.jpg  /content/drive/MyDrive/Colab Notebooks/data/set-lipstick-original/mask/mask00000005.png"
            ]
          },
          "metadata": {
            "tags": []
          },
          "execution_count": 57
        }
      ]
    },
    {
      "cell_type": "code",
      "metadata": {
        "colab": {
          "base_uri": "https://localhost:8080/",
          "height": 424
        },
        "id": "m4xitB-_b5aH",
        "outputId": "e7da2c6a-f248-4488-9704-e27d46f059a6"
      },
      "source": [
        "df = df[:3000] # сократим количество примеров для ускорения\n",
        "df"
      ],
      "execution_count": 59,
      "outputs": [
        {
          "output_type": "execute_result",
          "data": {
            "text/html": [
              "<div>\n",
              "<style scoped>\n",
              "    .dataframe tbody tr th:only-of-type {\n",
              "        vertical-align: middle;\n",
              "    }\n",
              "\n",
              "    .dataframe tbody tr th {\n",
              "        vertical-align: top;\n",
              "    }\n",
              "\n",
              "    .dataframe thead th {\n",
              "        text-align: right;\n",
              "    }\n",
              "</style>\n",
              "<table border=\"1\" class=\"dataframe\">\n",
              "  <thead>\n",
              "    <tr style=\"text-align: right;\">\n",
              "      <th></th>\n",
              "      <th>lips</th>\n",
              "      <th>mask</th>\n",
              "    </tr>\n",
              "  </thead>\n",
              "  <tbody>\n",
              "    <tr>\n",
              "      <th>0</th>\n",
              "      <td>/content/drive/MyDrive/Colab Notebooks/data/set-lipstick-original/images/image00000001.jpg</td>\n",
              "      <td>/content/drive/MyDrive/Colab Notebooks/data/set-lipstick-original/mask/mask00000001.png</td>\n",
              "    </tr>\n",
              "    <tr>\n",
              "      <th>1</th>\n",
              "      <td>/content/drive/MyDrive/Colab Notebooks/data/set-lipstick-original/images/image00000002.jpg</td>\n",
              "      <td>/content/drive/MyDrive/Colab Notebooks/data/set-lipstick-original/mask/mask00000002.png</td>\n",
              "    </tr>\n",
              "    <tr>\n",
              "      <th>2</th>\n",
              "      <td>/content/drive/MyDrive/Colab Notebooks/data/set-lipstick-original/images/image00000003.jpg</td>\n",
              "      <td>/content/drive/MyDrive/Colab Notebooks/data/set-lipstick-original/mask/mask00000003.png</td>\n",
              "    </tr>\n",
              "    <tr>\n",
              "      <th>3</th>\n",
              "      <td>/content/drive/MyDrive/Colab Notebooks/data/set-lipstick-original/images/image00000004.jpg</td>\n",
              "      <td>/content/drive/MyDrive/Colab Notebooks/data/set-lipstick-original/mask/mask00000004.png</td>\n",
              "    </tr>\n",
              "    <tr>\n",
              "      <th>4</th>\n",
              "      <td>/content/drive/MyDrive/Colab Notebooks/data/set-lipstick-original/images/image00000005.jpg</td>\n",
              "      <td>/content/drive/MyDrive/Colab Notebooks/data/set-lipstick-original/mask/mask00000005.png</td>\n",
              "    </tr>\n",
              "    <tr>\n",
              "      <th>...</th>\n",
              "      <td>...</td>\n",
              "      <td>...</td>\n",
              "    </tr>\n",
              "    <tr>\n",
              "      <th>2995</th>\n",
              "      <td>/content/drive/MyDrive/Colab Notebooks/data/set-lipstick-original/images/image00002996.jpg</td>\n",
              "      <td>/content/drive/MyDrive/Colab Notebooks/data/set-lipstick-original/mask/mask00002996.png</td>\n",
              "    </tr>\n",
              "    <tr>\n",
              "      <th>2996</th>\n",
              "      <td>/content/drive/MyDrive/Colab Notebooks/data/set-lipstick-original/images/image00002997.jpg</td>\n",
              "      <td>/content/drive/MyDrive/Colab Notebooks/data/set-lipstick-original/mask/mask00002997.png</td>\n",
              "    </tr>\n",
              "    <tr>\n",
              "      <th>2997</th>\n",
              "      <td>/content/drive/MyDrive/Colab Notebooks/data/set-lipstick-original/images/image00002998.jpg</td>\n",
              "      <td>/content/drive/MyDrive/Colab Notebooks/data/set-lipstick-original/mask/mask00002998.png</td>\n",
              "    </tr>\n",
              "    <tr>\n",
              "      <th>2998</th>\n",
              "      <td>/content/drive/MyDrive/Colab Notebooks/data/set-lipstick-original/images/image00002999.jpg</td>\n",
              "      <td>/content/drive/MyDrive/Colab Notebooks/data/set-lipstick-original/mask/mask00002999.png</td>\n",
              "    </tr>\n",
              "    <tr>\n",
              "      <th>2999</th>\n",
              "      <td>/content/drive/MyDrive/Colab Notebooks/data/set-lipstick-original/images/image00003000.jpg</td>\n",
              "      <td>/content/drive/MyDrive/Colab Notebooks/data/set-lipstick-original/mask/mask00003000.png</td>\n",
              "    </tr>\n",
              "  </tbody>\n",
              "</table>\n",
              "<p>3000 rows × 2 columns</p>\n",
              "</div>"
            ],
            "text/plain": [
              "                                                                                            lips                                                                                     mask\n",
              "0     /content/drive/MyDrive/Colab Notebooks/data/set-lipstick-original/images/image00000001.jpg  /content/drive/MyDrive/Colab Notebooks/data/set-lipstick-original/mask/mask00000001.png\n",
              "1     /content/drive/MyDrive/Colab Notebooks/data/set-lipstick-original/images/image00000002.jpg  /content/drive/MyDrive/Colab Notebooks/data/set-lipstick-original/mask/mask00000002.png\n",
              "2     /content/drive/MyDrive/Colab Notebooks/data/set-lipstick-original/images/image00000003.jpg  /content/drive/MyDrive/Colab Notebooks/data/set-lipstick-original/mask/mask00000003.png\n",
              "3     /content/drive/MyDrive/Colab Notebooks/data/set-lipstick-original/images/image00000004.jpg  /content/drive/MyDrive/Colab Notebooks/data/set-lipstick-original/mask/mask00000004.png\n",
              "4     /content/drive/MyDrive/Colab Notebooks/data/set-lipstick-original/images/image00000005.jpg  /content/drive/MyDrive/Colab Notebooks/data/set-lipstick-original/mask/mask00000005.png\n",
              "...                                                                                          ...                                                                                      ...\n",
              "2995  /content/drive/MyDrive/Colab Notebooks/data/set-lipstick-original/images/image00002996.jpg  /content/drive/MyDrive/Colab Notebooks/data/set-lipstick-original/mask/mask00002996.png\n",
              "2996  /content/drive/MyDrive/Colab Notebooks/data/set-lipstick-original/images/image00002997.jpg  /content/drive/MyDrive/Colab Notebooks/data/set-lipstick-original/mask/mask00002997.png\n",
              "2997  /content/drive/MyDrive/Colab Notebooks/data/set-lipstick-original/images/image00002998.jpg  /content/drive/MyDrive/Colab Notebooks/data/set-lipstick-original/mask/mask00002998.png\n",
              "2998  /content/drive/MyDrive/Colab Notebooks/data/set-lipstick-original/images/image00002999.jpg  /content/drive/MyDrive/Colab Notebooks/data/set-lipstick-original/mask/mask00002999.png\n",
              "2999  /content/drive/MyDrive/Colab Notebooks/data/set-lipstick-original/images/image00003000.jpg  /content/drive/MyDrive/Colab Notebooks/data/set-lipstick-original/mask/mask00003000.png\n",
              "\n",
              "[3000 rows x 2 columns]"
            ]
          },
          "metadata": {
            "tags": []
          },
          "execution_count": 59
        }
      ]
    },
    {
      "cell_type": "code",
      "metadata": {
        "id": "Fb_Oju-Gb5jJ"
      },
      "source": [
        "def img_to_bin(read_path, write_path):\n",
        "    img = cv2.cvtColor(cv2.imread(str(read_path)), cv2.COLOR_BGR2RGB)\n",
        "\n",
        "    height, width, channels = img.shape\n",
        "    img_binary = np.zeros((height,width,1))\n",
        "    img_grayscale = cv2.cvtColor(img, cv2.COLOR_BGR2GRAY) #grayscale\n",
        "    (thresh, img_binary) = cv2.threshold(img_grayscale, 128, 255, cv2.THRESH_BINARY | cv2.THRESH_OTSU)\n",
        "    img_binary = cv2.bitwise_not(img_binary) #invert img\n",
        "    new_path = str(write_path/read_path.parts[-1])\n",
        "    cv2.imwrite(new_path, img_binary)\n",
        "    return new_path"
      ],
      "execution_count": 70,
      "outputs": []
    },
    {
      "cell_type": "code",
      "metadata": {
        "colab": {
          "base_uri": "https://localhost:8080/",
          "height": 293
        },
        "id": "gwYi-sT0b5oz",
        "outputId": "b6af39eb-19a7-416c-8fcd-4e6aa052c82b"
      },
      "source": [
        "new_paths = []\n",
        "bin_path = Path('/content/drive/MyDrive/Colab Notebooks/data/set-lipstick-original/mask_inverted/')\n",
        "for index, row in df.iterrows():\n",
        "  new_path = img_to_bin(Path(row['mask']), bin_path)\n",
        "  new_paths.append(new_path)\n",
        "df['mask_bin'] = new_paths\n",
        "df.head()\n"
      ],
      "execution_count": 72,
      "outputs": [
        {
          "output_type": "execute_result",
          "data": {
            "text/html": [
              "<div>\n",
              "<style scoped>\n",
              "    .dataframe tbody tr th:only-of-type {\n",
              "        vertical-align: middle;\n",
              "    }\n",
              "\n",
              "    .dataframe tbody tr th {\n",
              "        vertical-align: top;\n",
              "    }\n",
              "\n",
              "    .dataframe thead th {\n",
              "        text-align: right;\n",
              "    }\n",
              "</style>\n",
              "<table border=\"1\" class=\"dataframe\">\n",
              "  <thead>\n",
              "    <tr style=\"text-align: right;\">\n",
              "      <th></th>\n",
              "      <th>lips</th>\n",
              "      <th>mask</th>\n",
              "      <th>mask_bin</th>\n",
              "    </tr>\n",
              "  </thead>\n",
              "  <tbody>\n",
              "    <tr>\n",
              "      <th>0</th>\n",
              "      <td>/content/drive/MyDrive/Colab Notebooks/data/set-lipstick-original/images/image00000001.jpg</td>\n",
              "      <td>/content/drive/MyDrive/Colab Notebooks/data/set-lipstick-original/mask/mask00000001.png</td>\n",
              "      <td>/content/drive/MyDrive/Colab Notebooks/data/set-lipstick-original/mask_inverted/mask00000001.png</td>\n",
              "    </tr>\n",
              "    <tr>\n",
              "      <th>1</th>\n",
              "      <td>/content/drive/MyDrive/Colab Notebooks/data/set-lipstick-original/images/image00000002.jpg</td>\n",
              "      <td>/content/drive/MyDrive/Colab Notebooks/data/set-lipstick-original/mask/mask00000002.png</td>\n",
              "      <td>/content/drive/MyDrive/Colab Notebooks/data/set-lipstick-original/mask_inverted/mask00000002.png</td>\n",
              "    </tr>\n",
              "    <tr>\n",
              "      <th>2</th>\n",
              "      <td>/content/drive/MyDrive/Colab Notebooks/data/set-lipstick-original/images/image00000003.jpg</td>\n",
              "      <td>/content/drive/MyDrive/Colab Notebooks/data/set-lipstick-original/mask/mask00000003.png</td>\n",
              "      <td>/content/drive/MyDrive/Colab Notebooks/data/set-lipstick-original/mask_inverted/mask00000003.png</td>\n",
              "    </tr>\n",
              "    <tr>\n",
              "      <th>3</th>\n",
              "      <td>/content/drive/MyDrive/Colab Notebooks/data/set-lipstick-original/images/image00000004.jpg</td>\n",
              "      <td>/content/drive/MyDrive/Colab Notebooks/data/set-lipstick-original/mask/mask00000004.png</td>\n",
              "      <td>/content/drive/MyDrive/Colab Notebooks/data/set-lipstick-original/mask_inverted/mask00000004.png</td>\n",
              "    </tr>\n",
              "    <tr>\n",
              "      <th>4</th>\n",
              "      <td>/content/drive/MyDrive/Colab Notebooks/data/set-lipstick-original/images/image00000005.jpg</td>\n",
              "      <td>/content/drive/MyDrive/Colab Notebooks/data/set-lipstick-original/mask/mask00000005.png</td>\n",
              "      <td>/content/drive/MyDrive/Colab Notebooks/data/set-lipstick-original/mask_inverted/mask00000005.png</td>\n",
              "    </tr>\n",
              "  </tbody>\n",
              "</table>\n",
              "</div>"
            ],
            "text/plain": [
              "                                                                                         lips  ...                                                                                          mask_bin\n",
              "0  /content/drive/MyDrive/Colab Notebooks/data/set-lipstick-original/images/image00000001.jpg  ...  /content/drive/MyDrive/Colab Notebooks/data/set-lipstick-original/mask_inverted/mask00000001.png\n",
              "1  /content/drive/MyDrive/Colab Notebooks/data/set-lipstick-original/images/image00000002.jpg  ...  /content/drive/MyDrive/Colab Notebooks/data/set-lipstick-original/mask_inverted/mask00000002.png\n",
              "2  /content/drive/MyDrive/Colab Notebooks/data/set-lipstick-original/images/image00000003.jpg  ...  /content/drive/MyDrive/Colab Notebooks/data/set-lipstick-original/mask_inverted/mask00000003.png\n",
              "3  /content/drive/MyDrive/Colab Notebooks/data/set-lipstick-original/images/image00000004.jpg  ...  /content/drive/MyDrive/Colab Notebooks/data/set-lipstick-original/mask_inverted/mask00000004.png\n",
              "4  /content/drive/MyDrive/Colab Notebooks/data/set-lipstick-original/images/image00000005.jpg  ...  /content/drive/MyDrive/Colab Notebooks/data/set-lipstick-original/mask_inverted/mask00000005.png\n",
              "\n",
              "[5 rows x 3 columns]"
            ]
          },
          "metadata": {
            "tags": []
          },
          "execution_count": 72
        }
      ]
    },
    {
      "cell_type": "code",
      "metadata": {
        "id": "HdPk0HfLry1E"
      },
      "source": [
        "df.to_csv('/content/drive/MyDrive/Colab Notebooks/data/set-lipstick-original/path_lips.csv', index = False)\n",
        "# df = pd.read_csv(\"/content/drive/MyDrive/Colab Notebooks/data/set-lipstick-original/path_lips.csv.csv\")"
      ],
      "execution_count": 75,
      "outputs": []
    },
    {
      "cell_type": "code",
      "metadata": {
        "colab": {
          "base_uri": "https://localhost:8080/",
          "height": 270
        },
        "id": "wFcPgXUOfVDu",
        "outputId": "164e6481-a11e-4284-e592-f20630fd8047"
      },
      "source": [
        "for i in range(1):\n",
        "    mask = plt.imread('/content/drive/MyDrive/Colab Notebooks/data/set-lipstick-original/mask_inverted/mask00000042.png')*255\n",
        "    mask = np.where(mask == i, 255, 0)\n",
        "#     mask = mask[:,:,0]\n",
        "    print(np.unique(mask))\n",
        "    plt.title('lips')\n",
        "    plt.imshow(mask)\n",
        "    plt.show()"
      ],
      "execution_count": 79,
      "outputs": [
        {
          "output_type": "stream",
          "text": [
            "[  0 255]\n"
          ],
          "name": "stdout"
        },
        {
          "output_type": "display_data",
          "data": {
            "image/png": "[encoded data removed]",
            "text/plain": [
              "<Figure size 432x288 with 1 Axes>"
            ]
          },
          "metadata": {
            "tags": [],
            "needs_background": "light"
          }
        }
      ]
    },
    {
      "cell_type": "code",
      "metadata": {
        "id": "yloAsOxFb5sQ"
      },
      "source": [
        "class CustomDatasetFromImages(Dataset):\n",
        "    def __init__(self, data_info):\n",
        "        # Подаем наш подготовленный датафрейм\n",
        "        self.data_info = data_info\n",
        "        \n",
        "        # Разделяем датафрейм на rgb картинки \n",
        "        self.image_arr = self.data_info.iloc[:,0]\n",
        "        # и на сегментированные картинки\n",
        "        self.label_arr = self.data_info.iloc[:,2]\n",
        "        \n",
        "        # Количество пар картинка-сегментация\n",
        "        self.data_len = len(self.data_info.index)\n",
        "        \n",
        "        # convert str names to class values on masks\n",
        "        # Конвертируем стринговые имена в значения класса на маске\n",
        "        self.class_values = [labels.index(cls) for cls in labels]\n",
        "        \n",
        "    def __getitem__(self, index):\n",
        "        # Читаем картинку и сразу же представляем ее в виде numpy-массива \n",
        "        # размера 600х800 float-значний\n",
        "        img = Image.open(self.image_arr[index])\n",
        "        # Преобразовываем к размеру 256х256\n",
        "        img = img.resize((256, 256))\n",
        "        img = np.asarray(img).astype('float')\n",
        "        # Нормализуем изображение в значениях [0,1]\n",
        "        img = torch.as_tensor(img)/255    \n",
        "        # Количество каналов ставим на первый план - этого хочет pytorch\n",
        "        img = img.permute(2,0,1).float()\n",
        "        \n",
        "        # Считываем нашу маску\n",
        "        mask = np.asarray(plt.imread(self.label_arr[index]))*255\n",
        "\n",
        "        # Здесь мы создаем список бинарных масок из нашей одной общей маски \n",
        "        masks = [(mask == v) for v in self.class_values]\n",
        "        # Стекаем все вместе в один многомерный тензор масок\n",
        "        mask = np.stack(masks, axis=-1).astype('float')\n",
        "\n",
        "        #  Приводим к типу тензора\n",
        "        mask = torch.as_tensor(mask)\n",
        "\n",
        "#         mask = mask.view(mask.shape[0], mask.shape[1], 1)\n",
        "#         mask = torch.FloatTensor(mask[None,].type(torch.float32))\n",
        "#         print(mask.size())\n",
        "        # Размерность каналов на передний план\n",
        "        mask = mask.permute(2, 0, 1)\n",
        "\n",
        "        \n",
        "        # делаем ресайз маски на 256х256\n",
        "        # Для этого используем функцию interpolate\n",
        "        ### Что бы ресайзить и высоту и ширину картинки, нужно перед interpolate\n",
        "        ### пороизвести unsqueeze над тензором, и squeeze после.\n",
        "        # unsqueeze - меняет размерность img c (256, 256, 3) -> (1, 256, 256, 3),\n",
        "        mask = mask.unsqueeze(0)\n",
        "        mask = F.interpolate(input=mask, size=256, mode='nearest')\n",
        "        mask=mask.squeeze(0)\n",
        "#         print(mask.size())\n",
        "\n",
        "        \n",
        "        return (img, mask)\n",
        "\n",
        "    def __len__(self):\n",
        "        return self.data_len"
      ],
      "execution_count": 82,
      "outputs": []
    },
    {
      "cell_type": "code",
      "metadata": {
        "id": "QcMAmh7CgZiH"
      },
      "source": [
        "from sklearn.model_selection import train_test_split\n",
        "\n",
        "labels = [ 'Unlabeled','Lips']\n",
        "\n",
        "# 70 % в тренировочную выборку, 30 - в тестовую\n",
        "X_train, X_test = train_test_split(df,test_size=0.3)\n",
        "\n",
        "# Упорядочиваем индексацию\n",
        "X_train.reset_index(drop=True,inplace=True)\n",
        "X_test.reset_index(drop=True,inplace=True)\n",
        "\n",
        "# Оборачиваем каждую выборку в наш кастомный датасет\n",
        "train_data = CustomDatasetFromImages(X_train)\n",
        "test_data = CustomDatasetFromImages(X_test)\n",
        "\n"
      ],
      "execution_count": 83,
      "outputs": []
    },
    {
      "cell_type": "code",
      "metadata": {
        "id": "GY9KnO15hXrw"
      },
      "source": [
        "train_data_loader = DataLoader(train_data,batch_size=8,shuffle=True)\n",
        "test_data_loader = DataLoader(test_data,batch_size=5,shuffle=False)"
      ],
      "execution_count": 84,
      "outputs": []
    },
    {
      "cell_type": "code",
      "metadata": {
        "colab": {
          "base_uri": "https://localhost:8080/"
        },
        "id": "Nz73iW0xhy1e",
        "outputId": "125c80c6-3dbb-4c9d-a400-0be931e91945"
      },
      "source": [
        "device = torch.device(\"cuda:0\" if torch.cuda.is_available() else \"cpu\")\n",
        "device"
      ],
      "execution_count": 85,
      "outputs": [
        {
          "output_type": "execute_result",
          "data": {
            "text/plain": [
              "device(type='cpu')"
            ]
          },
          "metadata": {
            "tags": []
          },
          "execution_count": 85
        }
      ]
    },
    {
      "cell_type": "code",
      "metadata": {
        "id": "IPlY0n61gp-E"
      },
      "source": [
        "class UNet(nn.Module):\n",
        "\n",
        "    def __init__(self, num_classes):\n",
        "        super(UNet, self).__init__()\n",
        "        self.num_classes = num_classes\n",
        "\n",
        "        # Левая сторона (Путь уменьшения размерности картинки)\n",
        "        self.down_conv_11 = self.conv_block(in_channels=3, out_channels=64)\n",
        "        self.down_conv_12 = nn.MaxPool2d(kernel_size=2, stride=2)\n",
        "        self.down_conv_21 = self.conv_block(in_channels=64, out_channels=128)\n",
        "        self.down_conv_22 = nn.MaxPool2d(kernel_size=2, stride=2)\n",
        "        self.down_conv_31 = self.conv_block(in_channels=128, out_channels=256)\n",
        "        self.down_conv_32 = nn.MaxPool2d(kernel_size=2, stride=2)\n",
        "        self.down_conv_41 = self.conv_block(in_channels=256, out_channels=512)\n",
        "        self.down_conv_42 = nn.MaxPool2d(kernel_size=2, stride=2)\n",
        "        \n",
        "        self.middle = self.conv_block(in_channels=512, out_channels=1024)\n",
        "        \n",
        "        # Правая сторона (Путь увеличения размерности картинки)\n",
        "        self.up_conv_11 = nn.ConvTranspose2d(in_channels=1024, out_channels=512, kernel_size=3, stride=2, padding=1, output_padding=1)\n",
        "        self.up_conv_12 = self.conv_block(in_channels=1024, out_channels=512)\n",
        "        self.up_conv_21 = nn.ConvTranspose2d(in_channels=512, out_channels=256, kernel_size=3, stride=2, padding=1, output_padding=1)\n",
        "        self.up_conv_22 = self.conv_block(in_channels=512, out_channels=256)\n",
        "        self.up_conv_31 = nn.ConvTranspose2d(in_channels=256, out_channels=128, kernel_size=3, stride=2, padding=1, output_padding=1)\n",
        "        self.up_conv_32 = self.conv_block(in_channels=256, out_channels=128)\n",
        "        self.up_conv_41 = nn.ConvTranspose2d(in_channels=128, out_channels=64, kernel_size=3, stride=2, padding=1, output_padding=1)\n",
        "        self.up_conv_42 = self.conv_block(in_channels=128, out_channels=64)\n",
        "        \n",
        "        self.output = nn.Conv2d(in_channels=64, out_channels=num_classes, kernel_size=3, stride=1, padding=1)\n",
        "        self.softmax = nn.Softmax()\n",
        "    \n",
        "    @staticmethod\n",
        "    def conv_block(in_channels, out_channels):\n",
        "        block = nn.Sequential(nn.Conv2d(in_channels=in_channels, out_channels=out_channels, kernel_size=3, stride=1, padding=1),\n",
        "                                    nn.ReLU(),\n",
        "                                    nn.BatchNorm2d(num_features=out_channels),\n",
        "                                    nn.Conv2d(in_channels=out_channels, out_channels=out_channels, kernel_size=3, stride=1, padding=1),\n",
        "                                    nn.ReLU(),\n",
        "                                    nn.BatchNorm2d(num_features=out_channels))\n",
        "        return block\n",
        "    \n",
        "    @staticmethod\n",
        "    def crop_tensor(target_tensor, tensor):\n",
        "        target_size = target_tensor.size()[2]\n",
        "        tensor_size = tensor.size()[2]\n",
        "        delta = tensor_size - target_size\n",
        "        delta = delta // 2\n",
        "\n",
        "        return tensor[:,:, delta:tensor_size-delta, delta:tensor_size-delta]\n",
        "\n",
        "\n",
        "    def forward(self, X):\n",
        "        # Проход по левой стороне\n",
        "        x1 = self.down_conv_11(X) # [-1, 64, 256, 256]\n",
        "        x2 = self.down_conv_12(x1) # [-1, 64, 128, 128]\n",
        "        x3 = self.down_conv_21(x2) # [-1, 128, 128, 128]\n",
        "        x4 = self.down_conv_22(x3) # [-1, 128, 64, 64]\n",
        "        x5 = self.down_conv_31(x4) # [-1, 256, 64, 64]\n",
        "        x6 = self.down_conv_32(x5) # [-1, 256, 32, 32]\n",
        "        x7 = self.down_conv_41(x6) # [-1, 512, 32, 32]\n",
        "        x8 = self.down_conv_42(x7) # [-1, 512, 16, 16]\n",
        "        \n",
        "        middle_out = self.middle(x8) # [-1, 1024, 16, 16]\n",
        "\n",
        "        # Проход по правой стороне\n",
        "        x = self.up_conv_11(middle_out) # [-1, 512, 32, 32]\n",
        "        y = self.crop_tensor(x, x7)\n",
        "        x = self.up_conv_12(torch.cat((x, y), dim=1)) # [-1, 1024, 32, 32] -> [-1, 512, 32, 32]\n",
        "        \n",
        "        x = self.up_conv_21(x) # [-1, 256, 64, 64]\n",
        "        y = self.crop_tensor(x, x5)\n",
        "        x = self.up_conv_22(torch.cat((x, y), dim=1)) # [-1, 512, 64, 64] -> [-1, 256, 64, 64]\n",
        "        \n",
        "        x = self.up_conv_31(x) # [-1, 128, 128, 128]\n",
        "        y = self.crop_tensor(x, x3)\n",
        "        x = self.up_conv_32(torch.cat((x, y), dim=1)) # [-1, 256, 128, 128] -> [-1, 128, 128, 128]\n",
        "        \n",
        "        x = self.up_conv_41(x) # [-1, 64, 256, 256]\n",
        "        y = self.crop_tensor(x, x1)\n",
        "        x = self.up_conv_42(torch.cat((x, y), dim=1)) # [-1, 128, 256, 256] -> [-1, 64, 256, 256]\n",
        "        \n",
        "        output = self.output(x) # [-1, num_classes, 256, 256]\n",
        "        output = self.softmax(output)\n",
        "\n",
        "        return output\n",
        "\n"
      ],
      "execution_count": 86,
      "outputs": []
    },
    {
      "cell_type": "code",
      "metadata": {
        "id": "hgTo574ggqG-"
      },
      "source": [
        "model = UNet(num_classes=2).to(device)"
      ],
      "execution_count": 87,
      "outputs": []
    },
    {
      "cell_type": "code",
      "metadata": {
        "id": "edSD0spAgqKf"
      },
      "source": [
        "optimizer = torch.optim.Adam(model.parameters())"
      ],
      "execution_count": 88,
      "outputs": []
    },
    {
      "cell_type": "code",
      "metadata": {
        "colab": {
          "base_uri": "https://localhost:8080/"
        },
        "id": "7FHFjQiliItn",
        "outputId": "cc980fde-bdb5-4f34-afc9-a9fad389320b"
      },
      "source": [
        "!pip install segmentation-models-pytorch"
      ],
      "execution_count": 92,
      "outputs": [
        {
          "output_type": "stream",
          "text": [
            "Collecting segmentation-models-pytorch\n",
            "\u001b[?25l  Downloading https://files.pythonhosted.org/packages/65/54/8953f9f7ee9d451b0f3be8d635aa3a654579abf898d17502a090efe1155a/segmentation_models_pytorch-0.1.3-py3-none-any.whl (66kB)\n",
            "\u001b[K     |████████████████████████████████| 71kB 3.1MB/s \n",
            "\u001b[?25hCollecting timm==0.3.2\n",
            "\u001b[?25l  Downloading https://files.pythonhosted.org/packages/51/2d/39ecc56fbb202e1891c317e8e44667299bc3b0762ea2ed6aaaa2c2f6613c/timm-0.3.2-py3-none-any.whl (244kB)\n",
            "\u001b[K     |████████████████████████████████| 245kB 28.3MB/s \n",
            "\u001b[?25hRequirement already satisfied: torchvision>=0.3.0 in /usr/local/lib/python3.7/dist-packages (from segmentation-models-pytorch) (0.9.1+cu101)\n",
            "Collecting efficientnet-pytorch==0.6.3\n",
            "  Downloading https://files.pythonhosted.org/packages/b8/cb/0309a6e3d404862ae4bc017f89645cf150ac94c14c88ef81d215c8e52925/efficientnet_pytorch-0.6.3.tar.gz\n",
            "Collecting pretrainedmodels==0.7.4\n",
            "\u001b[?25l  Downloading https://files.pythonhosted.org/packages/84/0e/be6a0e58447ac16c938799d49bfb5fb7a80ac35e137547fc6cee2c08c4cf/pretrainedmodels-0.7.4.tar.gz (58kB)\n",
            "\u001b[K     |████████████████████████████████| 61kB 7.8MB/s \n",
            "\u001b[?25hRequirement already satisfied: torch>=1.0 in /usr/local/lib/python3.7/dist-packages (from timm==0.3.2->segmentation-models-pytorch) (1.8.1+cu101)\n",
            "Requirement already satisfied: numpy in /usr/local/lib/python3.7/dist-packages (from torchvision>=0.3.0->segmentation-models-pytorch) (1.19.5)\n",
            "Requirement already satisfied: pillow>=4.1.1 in /usr/local/lib/python3.7/dist-packages (from torchvision>=0.3.0->segmentation-models-pytorch) (7.1.2)\n",
            "Collecting munch\n",
            "  Downloading https://files.pythonhosted.org/packages/cc/ab/85d8da5c9a45e072301beb37ad7f833cd344e04c817d97e0cc75681d248f/munch-2.5.0-py2.py3-none-any.whl\n",
            "Requirement already satisfied: tqdm in /usr/local/lib/python3.7/dist-packages (from pretrainedmodels==0.7.4->segmentation-models-pytorch) (4.41.1)\n",
            "Requirement already satisfied: typing-extensions in /usr/local/lib/python3.7/dist-packages (from torch>=1.0->timm==0.3.2->segmentation-models-pytorch) (3.7.4.3)\n",
            "Requirement already satisfied: six in /usr/local/lib/python3.7/dist-packages (from munch->pretrainedmodels==0.7.4->segmentation-models-pytorch) (1.15.0)\n",
            "Building wheels for collected packages: efficientnet-pytorch, pretrainedmodels\n",
            "  Building wheel for efficientnet-pytorch (setup.py) ... \u001b[?25l\u001b[?25hdone\n",
            "  Created wheel for efficientnet-pytorch: filename=efficientnet_pytorch-0.6.3-cp37-none-any.whl size=12420 sha256=2c04de7f6cc8fa73a8bf460282b22c94f7c458dbac807f71580691cec71a1572\n",
            "  Stored in directory: /root/.cache/pip/wheels/42/1e/a9/2a578ba9ad04e776e80bf0f70d8a7f4c29ec0718b92d8f6ccd\n",
            "  Building wheel for pretrainedmodels (setup.py) ... \u001b[?25l\u001b[?25hdone\n",
            "  Created wheel for pretrainedmodels: filename=pretrainedmodels-0.7.4-cp37-none-any.whl size=60966 sha256=43462123916892cbe6ba83ce24b3445e273d5b58f3b035fb8490db2feae899f9\n",
            "  Stored in directory: /root/.cache/pip/wheels/69/df/63/62583c096289713f22db605aa2334de5b591d59861a02c2ecd\n",
            "Successfully built efficientnet-pytorch pretrainedmodels\n",
            "Installing collected packages: timm, efficientnet-pytorch, munch, pretrainedmodels, segmentation-models-pytorch\n",
            "Successfully installed efficientnet-pytorch-0.6.3 munch-2.5.0 pretrainedmodels-0.7.4 segmentation-models-pytorch-0.1.3 timm-0.3.2\n"
          ],
          "name": "stdout"
        }
      ]
    },
    {
      "cell_type": "code",
      "metadata": {
        "id": "WnYLwsnXgqOT"
      },
      "source": [
        "learning_rate = 0.001\n",
        "epochs = 3"
      ],
      "execution_count": 90,
      "outputs": []
    },
    {
      "cell_type": "code",
      "metadata": {
        "colab": {
          "base_uri": "https://localhost:8080/"
        },
        "id": "us0LRtaBiV_w",
        "outputId": "4dbd39c9-ff8f-4a62-f99c-fd1d981d71fb"
      },
      "source": [
        "#Импортируем библиотеку time для расчета, сколько времени у нас уходит на одну эпоху\n",
        "import time\n",
        "\n",
        "import segmentation_models_pytorch as smp\n",
        "import time\n",
        "criterion = smp.utils.losses.DiceLoss()\n",
        "\n",
        "# Полезная функция для детектирования аномалий в процессе обучения\n",
        "#torch.autograd.set_detect_anomaly(True)\n",
        "\n",
        "# запускаем главный тренировочный цикл\n",
        "epoch_losses = []\n",
        "model.train()\n",
        "for epoch in range(epochs):\n",
        "    time1 = time.time()\n",
        "    epoch_loss = []\n",
        "    for batch_idx, (data, labels) in enumerate(train_data_loader):\n",
        "        \n",
        "        data, labels = data.to(device), labels.to(device)        \n",
        "        \n",
        "        optimizer.zero_grad()\n",
        "\n",
        "        outputs = model(data)\n",
        "        \n",
        "        loss = criterion(outputs, labels)\n",
        "        \n",
        "                \n",
        "        \n",
        "        loss.backward()\n",
        "        optimizer.step()\n",
        "        \n",
        "        epoch_loss.append(loss.item())\n",
        "        \n",
        "        if batch_idx%50==0:\n",
        "            print(f'batch index : {batch_idx} | loss : {loss.item()}')\n",
        "\n",
        "    print(f'Epoch {epoch+1}, loss: ',np.mean(epoch_loss))\n",
        "    time2 = time.time()\n",
        "    print(f'Spend time for 1 epoch: {time2-time1} sec')\n",
        "    \n",
        "    \n",
        "    \n",
        "    epoch_losses.append(epoch_loss)"
      ],
      "execution_count": null,
      "outputs": [
        {
          "output_type": "stream",
          "text": [
            "/usr/local/lib/python3.7/dist-packages/ipykernel_launcher.py:83: UserWarning: Implicit dimension choice for softmax has been deprecated. Change the call to include dim=X as an argument.\n"
          ],
          "name": "stderr"
        },
        {
          "output_type": "stream",
          "text": [
            "batch index : 0 | loss : 0.9979522548802309\n"
          ],
          "name": "stdout"
        }
      ]
    },
    {
      "cell_type": "code",
      "metadata": {
        "id": "l5gGM1w8id1z"
      },
      "source": [
        "### TEST"
      ],
      "execution_count": null,
      "outputs": []
    },
    {
      "cell_type": "code",
      "metadata": {
        "id": "L3FeKh24id9L"
      },
      "source": [
        ""
      ],
      "execution_count": null,
      "outputs": []
    },
    {
      "cell_type": "code",
      "metadata": {
        "id": "Yb0mnQXLieBl"
      },
      "source": [
        ""
      ],
      "execution_count": null,
      "outputs": []
    },
    {
      "cell_type": "code",
      "metadata": {
        "id": "3yaZX_c-ieGE"
      },
      "source": [
        ""
      ],
      "execution_count": null,
      "outputs": []
    }
  ]
}
