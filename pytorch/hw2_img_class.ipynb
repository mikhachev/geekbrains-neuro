{
 "cells": [
  {
   "cell_type": "markdown",
   "id": "1e388763",
   "metadata": {},
   "source": [
    "## ДЗ 2 еще не сделано\n",
    "Вам нужно будет загрузить и оформить датасет котиков, собак https://www.kaggle.com/andrewmvd/dog-and-cat-detection \n",
    "Нужно будет произвести также аугментацию данных\n",
    "Затем обучить нейронную сеть на получившемся датасете используя модель с урока\n",
    "(* Усложненное задание) обучить faster-rcnn из статьи на датасете из енотов\n"
   ]
  },
  {
   "cell_type": "code",
   "execution_count": null,
   "id": "bb3b60a2",
   "metadata": {},
   "outputs": [],
   "source": []
  }
 ],
 "metadata": {
  "kernelspec": {
   "display_name": "Python 3",
   "language": "python",
   "name": "python3"
  },
  "language_info": {
   "codemirror_mode": {
    "name": "ipython",
    "version": 3
   },
   "file_extension": ".py",
   "mimetype": "text/x-python",
   "name": "python",
   "nbconvert_exporter": "python",
   "pygments_lexer": "ipython3",
   "version": "3.8.5"
  }
 },
 "nbformat": 4,
 "nbformat_minor": 5
}
