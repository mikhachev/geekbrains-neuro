{
  "nbformat": 4,
  "nbformat_minor": 0,
  "metadata": {
    "colab": {
      "name": "hw3.ipynb",
      "provenance": [],
      "collapsed_sections": []
    },
    "kernelspec": {
      "name": "python3",
      "display_name": "Python 3"
    },
    "language_info": {
      "name": "python"
    }
  },
  "cells": [
    {
      "cell_type": "markdown",
      "metadata": {
        "id": "Q-_HEtCFNY5k"
      },
      "source": [
        "\n",
        "\n",
        "```\n",
        "# Выбран кодовый формат\n",
        "```\n",
        "\n",
        "## ДЗ 3 \n",
        "Необходимо скачать и подготовить датасет https://www.kaggle.com/olekslu/makeup-lips-segmentation-28k-samples/notebooks для обучения модели на губы\n",
        "И затем обучить Модель на выбор из segmentation_models_pytorch\n"
      ]
    },
    {
      "cell_type": "code",
      "metadata": {
        "id": "hNJDnP3zNT-h"
      },
      "source": [
        "import numpy as np\n",
        "import pandas as pd\n",
        "import os\n",
        "import matplotlib.pyplot as plt\n",
        "import cv2\n",
        "from google.colab import drive\n",
        "\n",
        "\n",
        "from torch.utils.data import Dataset, DataLoader\n",
        "from PIL import Image\n",
        "import torch\n",
        "from torch.nn import functional as F\n",
        "import torch.nn as nn\n",
        "from pathlib import Path\n"
      ],
      "execution_count": 1,
      "outputs": []
    },
    {
      "cell_type": "code",
      "metadata": {
        "colab": {
          "base_uri": "https://localhost:8080/"
        },
        "id": "eFvPhBtKOJZv",
        "outputId": "699fb5ec-d48e-45f0-b41f-7da51c3a179e"
      },
      "source": [
        "drive.mount('/content/drive/')"
      ],
      "execution_count": 2,
      "outputs": [
        {
          "output_type": "stream",
          "text": [
            "Mounted at /content/drive/\n"
          ],
          "name": "stdout"
        }
      ]
    },
    {
      "cell_type": "code",
      "metadata": {
        "id": "CAbosmGlOPAz"
      },
      "source": [
        "read_img = '/content/drive/MyDrive/Colab Notebooks/data/set-lipstick-original/images/'\n",
        "read_mask = '/content/drive/MyDrive/Colab Notebooks/data/set-lipstick-original/mask/'\n"
      ],
      "execution_count": 3,
      "outputs": []
    },
    {
      "cell_type": "code",
      "metadata": {
        "colab": {
          "base_uri": "https://localhost:8080/",
          "height": 206
        },
        "id": "khFfBBt2VHQr",
        "outputId": "4f227543-b474-4ba7-e10f-b31ea18657b1"
      },
      "source": [
        "df1 = pd.read_csv('/content/drive/MyDrive/Colab Notebooks/data/set-lipstick-original/list.csv', delimiter=',')\n",
        "df1.head()"
      ],
      "execution_count": 4,
      "outputs": [
        {
          "output_type": "execute_result",
          "data": {
            "text/html": [
              "<div>\n",
              "<style scoped>\n",
              "    .dataframe tbody tr th:only-of-type {\n",
              "        vertical-align: middle;\n",
              "    }\n",
              "\n",
              "    .dataframe tbody tr th {\n",
              "        vertical-align: top;\n",
              "    }\n",
              "\n",
              "    .dataframe thead th {\n",
              "        text-align: right;\n",
              "    }\n",
              "</style>\n",
              "<table border=\"1\" class=\"dataframe\">\n",
              "  <thead>\n",
              "    <tr style=\"text-align: right;\">\n",
              "      <th></th>\n",
              "      <th>filename</th>\n",
              "      <th>width</th>\n",
              "      <th>height</th>\n",
              "      <th>class</th>\n",
              "      <th>xmin</th>\n",
              "      <th>ymin</th>\n",
              "      <th>xmax</th>\n",
              "      <th>ymax</th>\n",
              "      <th>mask</th>\n",
              "    </tr>\n",
              "  </thead>\n",
              "  <tbody>\n",
              "    <tr>\n",
              "      <th>0</th>\n",
              "      <td>image00000001.jpg</td>\n",
              "      <td>1280</td>\n",
              "      <td>720</td>\n",
              "      <td>Lips</td>\n",
              "      <td>661</td>\n",
              "      <td>394</td>\n",
              "      <td>776</td>\n",
              "      <td>444</td>\n",
              "      <td>mask00000001.png</td>\n",
              "    </tr>\n",
              "    <tr>\n",
              "      <th>1</th>\n",
              "      <td>image00000002.jpg</td>\n",
              "      <td>1280</td>\n",
              "      <td>720</td>\n",
              "      <td>Lips</td>\n",
              "      <td>557</td>\n",
              "      <td>336</td>\n",
              "      <td>682</td>\n",
              "      <td>392</td>\n",
              "      <td>mask00000002.png</td>\n",
              "    </tr>\n",
              "    <tr>\n",
              "      <th>2</th>\n",
              "      <td>image00000003.jpg</td>\n",
              "      <td>1280</td>\n",
              "      <td>720</td>\n",
              "      <td>Lips</td>\n",
              "      <td>553</td>\n",
              "      <td>369</td>\n",
              "      <td>684</td>\n",
              "      <td>427</td>\n",
              "      <td>mask00000003.png</td>\n",
              "    </tr>\n",
              "    <tr>\n",
              "      <th>3</th>\n",
              "      <td>image00000004.jpg</td>\n",
              "      <td>1280</td>\n",
              "      <td>720</td>\n",
              "      <td>Lips</td>\n",
              "      <td>555</td>\n",
              "      <td>351</td>\n",
              "      <td>681</td>\n",
              "      <td>408</td>\n",
              "      <td>mask00000004.png</td>\n",
              "    </tr>\n",
              "    <tr>\n",
              "      <th>4</th>\n",
              "      <td>image00000005.jpg</td>\n",
              "      <td>1280</td>\n",
              "      <td>720</td>\n",
              "      <td>Lips</td>\n",
              "      <td>555</td>\n",
              "      <td>351</td>\n",
              "      <td>680</td>\n",
              "      <td>407</td>\n",
              "      <td>mask00000005.png</td>\n",
              "    </tr>\n",
              "  </tbody>\n",
              "</table>\n",
              "</div>"
            ],
            "text/plain": [
              "            filename  width  height class  ...  ymin  xmax  ymax              mask\n",
              "0  image00000001.jpg   1280     720  Lips  ...   394   776   444  mask00000001.png\n",
              "1  image00000002.jpg   1280     720  Lips  ...   336   682   392  mask00000002.png\n",
              "2  image00000003.jpg   1280     720  Lips  ...   369   684   427  mask00000003.png\n",
              "3  image00000004.jpg   1280     720  Lips  ...   351   681   408  mask00000004.png\n",
              "4  image00000005.jpg   1280     720  Lips  ...   351   680   407  mask00000005.png\n",
              "\n",
              "[5 rows x 9 columns]"
            ]
          },
          "metadata": {
            "tags": []
          },
          "execution_count": 4
        }
      ]
    },
    {
      "cell_type": "code",
      "metadata": {
        "id": "TYMn2WG7OPEL"
      },
      "source": [
        "read_img = []\n",
        "read_mask = []\n",
        "for root, dirs, files in os.walk('/content/drive/MyDrive/Colab Notebooks/data/set-lipstick-original/'):\n",
        "    for name in files:\n",
        "        f = os.path.join(root, name)\n",
        "        if 'images' in f:\n",
        "            read_img.append(f)\n",
        "        elif 'mask' in f:\n",
        "            read_mask.append(f)\n",
        "        else:\n",
        "            break\n",
        "\n"
      ],
      "execution_count": null,
      "outputs": []
    },
    {
      "cell_type": "code",
      "metadata": {
        "colab": {
          "base_uri": "https://localhost:8080/",
          "height": 481
        },
        "id": "jTe04gLbRgTl",
        "outputId": "52aaf548-e2ae-4585-e4ee-f5140874bd12"
      },
      "source": [
        "pd.set_option('display.max_colwidth', -1)\n",
        "mask = pd.DataFrame(read_mask, columns = ['mask'])\n",
        "mask['ind'] = mask['mask'].replace(regex = True, to_replace = '.*\\\\\\\\' , value = '').replace(regex = True, to_replace = '\\D' , value = '')\n",
        "#mask = mask.set_index('ind')\n",
        "mask\n"
      ],
      "execution_count": null,
      "outputs": [
        {
          "output_type": "stream",
          "text": [
            "/usr/local/lib/python3.7/dist-packages/ipykernel_launcher.py:1: FutureWarning: Passing a negative integer is deprecated in version 1.0 and will not be supported in future version. Instead, use None to not limit the column width.\n",
            "  \"\"\"Entry point for launching an IPython kernel.\n"
          ],
          "name": "stderr"
        },
        {
          "output_type": "execute_result",
          "data": {
            "text/html": [
              "<div>\n",
              "<style scoped>\n",
              "    .dataframe tbody tr th:only-of-type {\n",
              "        vertical-align: middle;\n",
              "    }\n",
              "\n",
              "    .dataframe tbody tr th {\n",
              "        vertical-align: top;\n",
              "    }\n",
              "\n",
              "    .dataframe thead th {\n",
              "        text-align: right;\n",
              "    }\n",
              "</style>\n",
              "<table border=\"1\" class=\"dataframe\">\n",
              "  <thead>\n",
              "    <tr style=\"text-align: right;\">\n",
              "      <th></th>\n",
              "      <th>mask</th>\n",
              "      <th>ind</th>\n",
              "    </tr>\n",
              "  </thead>\n",
              "  <tbody>\n",
              "    <tr>\n",
              "      <th>0</th>\n",
              "      <td>/content/drive/MyDrive/Colab Notebooks/data/set-lipstick-original/mask/mask00000027.png</td>\n",
              "      <td>00000027</td>\n",
              "    </tr>\n",
              "    <tr>\n",
              "      <th>1</th>\n",
              "      <td>/content/drive/MyDrive/Colab Notebooks/data/set-lipstick-original/mask/mask00000024.png</td>\n",
              "      <td>00000024</td>\n",
              "    </tr>\n",
              "    <tr>\n",
              "      <th>2</th>\n",
              "      <td>/content/drive/MyDrive/Colab Notebooks/data/set-lipstick-original/mask/mask00000025.png</td>\n",
              "      <td>00000025</td>\n",
              "    </tr>\n",
              "    <tr>\n",
              "      <th>3</th>\n",
              "      <td>/content/drive/MyDrive/Colab Notebooks/data/set-lipstick-original/mask/mask00000023.png</td>\n",
              "      <td>00000023</td>\n",
              "    </tr>\n",
              "    <tr>\n",
              "      <th>4</th>\n",
              "      <td>/content/drive/MyDrive/Colab Notebooks/data/set-lipstick-original/mask/mask00000030.png</td>\n",
              "      <td>00000030</td>\n",
              "    </tr>\n",
              "    <tr>\n",
              "      <th>...</th>\n",
              "      <td>...</td>\n",
              "      <td>...</td>\n",
              "    </tr>\n",
              "    <tr>\n",
              "      <th>6704</th>\n",
              "      <td>/content/drive/MyDrive/Colab Notebooks/data/set-lipstick-original/mask/mask00006666.png</td>\n",
              "      <td>00006666</td>\n",
              "    </tr>\n",
              "    <tr>\n",
              "      <th>6705</th>\n",
              "      <td>/content/drive/MyDrive/Colab Notebooks/data/set-lipstick-original/mask/mask00006675.png</td>\n",
              "      <td>00006675</td>\n",
              "    </tr>\n",
              "    <tr>\n",
              "      <th>6706</th>\n",
              "      <td>/content/drive/MyDrive/Colab Notebooks/data/set-lipstick-original/mask/mask00006674.png</td>\n",
              "      <td>00006674</td>\n",
              "    </tr>\n",
              "    <tr>\n",
              "      <th>6707</th>\n",
              "      <td>/content/drive/MyDrive/Colab Notebooks/data/set-lipstick-original/mask/mask00006665.png</td>\n",
              "      <td>00006665</td>\n",
              "    </tr>\n",
              "    <tr>\n",
              "      <th>6708</th>\n",
              "      <td>/content/drive/MyDrive/Colab Notebooks/data/set-lipstick-original/mask/mask00006664.png</td>\n",
              "      <td>00006664</td>\n",
              "    </tr>\n",
              "  </tbody>\n",
              "</table>\n",
              "<p>6709 rows × 2 columns</p>\n",
              "</div>"
            ],
            "text/plain": [
              "                                                                                         mask       ind\n",
              "0     /content/drive/MyDrive/Colab Notebooks/data/set-lipstick-original/mask/mask00000027.png  00000027\n",
              "1     /content/drive/MyDrive/Colab Notebooks/data/set-lipstick-original/mask/mask00000024.png  00000024\n",
              "2     /content/drive/MyDrive/Colab Notebooks/data/set-lipstick-original/mask/mask00000025.png  00000025\n",
              "3     /content/drive/MyDrive/Colab Notebooks/data/set-lipstick-original/mask/mask00000023.png  00000023\n",
              "4     /content/drive/MyDrive/Colab Notebooks/data/set-lipstick-original/mask/mask00000030.png  00000030\n",
              "...                                                                                       ...       ...\n",
              "6704  /content/drive/MyDrive/Colab Notebooks/data/set-lipstick-original/mask/mask00006666.png  00006666\n",
              "6705  /content/drive/MyDrive/Colab Notebooks/data/set-lipstick-original/mask/mask00006675.png  00006675\n",
              "6706  /content/drive/MyDrive/Colab Notebooks/data/set-lipstick-original/mask/mask00006674.png  00006674\n",
              "6707  /content/drive/MyDrive/Colab Notebooks/data/set-lipstick-original/mask/mask00006665.png  00006665\n",
              "6708  /content/drive/MyDrive/Colab Notebooks/data/set-lipstick-original/mask/mask00006664.png  00006664\n",
              "\n",
              "[6709 rows x 2 columns]"
            ]
          },
          "metadata": {
            "tags": []
          },
          "execution_count": 54
        }
      ]
    },
    {
      "cell_type": "code",
      "metadata": {
        "colab": {
          "base_uri": "https://localhost:8080/",
          "height": 424
        },
        "id": "-k8TsqLhlgp7",
        "outputId": "c16acf66-cc3f-4eb8-9fee-113ed21b4607"
      },
      "source": [
        "lips = pd.DataFrame(read_img , columns = ['lips'])\n",
        "lips['ind'] = lips['lips'].replace(regex = True, to_replace = '.*\\\\\\\\' , value = '').replace(regex = True, to_replace = '\\D' , value = '')\n",
        "#lips.set_index('ind')\n",
        "lips"
      ],
      "execution_count": null,
      "outputs": [
        {
          "output_type": "execute_result",
          "data": {
            "text/html": [
              "<div>\n",
              "<style scoped>\n",
              "    .dataframe tbody tr th:only-of-type {\n",
              "        vertical-align: middle;\n",
              "    }\n",
              "\n",
              "    .dataframe tbody tr th {\n",
              "        vertical-align: top;\n",
              "    }\n",
              "\n",
              "    .dataframe thead th {\n",
              "        text-align: right;\n",
              "    }\n",
              "</style>\n",
              "<table border=\"1\" class=\"dataframe\">\n",
              "  <thead>\n",
              "    <tr style=\"text-align: right;\">\n",
              "      <th></th>\n",
              "      <th>lips</th>\n",
              "      <th>ind</th>\n",
              "    </tr>\n",
              "  </thead>\n",
              "  <tbody>\n",
              "    <tr>\n",
              "      <th>0</th>\n",
              "      <td>/content/drive/MyDrive/Colab Notebooks/data/set-lipstick-original/images/image00027049.jpg</td>\n",
              "      <td>00027049</td>\n",
              "    </tr>\n",
              "    <tr>\n",
              "      <th>1</th>\n",
              "      <td>/content/drive/MyDrive/Colab Notebooks/data/set-lipstick-original/images/image00027253.jpg</td>\n",
              "      <td>00027253</td>\n",
              "    </tr>\n",
              "    <tr>\n",
              "      <th>2</th>\n",
              "      <td>/content/drive/MyDrive/Colab Notebooks/data/set-lipstick-original/images/image00027087.jpg</td>\n",
              "      <td>00027087</td>\n",
              "    </tr>\n",
              "    <tr>\n",
              "      <th>3</th>\n",
              "      <td>/content/drive/MyDrive/Colab Notebooks/data/set-lipstick-original/images/image00027320.jpg</td>\n",
              "      <td>00027320</td>\n",
              "    </tr>\n",
              "    <tr>\n",
              "      <th>4</th>\n",
              "      <td>/content/drive/MyDrive/Colab Notebooks/data/set-lipstick-original/images/image00027083.jpg</td>\n",
              "      <td>00027083</td>\n",
              "    </tr>\n",
              "    <tr>\n",
              "      <th>...</th>\n",
              "      <td>...</td>\n",
              "      <td>...</td>\n",
              "    </tr>\n",
              "    <tr>\n",
              "      <th>28065</th>\n",
              "      <td>/content/drive/MyDrive/Colab Notebooks/data/set-lipstick-original/images/image00000066.jpg</td>\n",
              "      <td>00000066</td>\n",
              "    </tr>\n",
              "    <tr>\n",
              "      <th>28066</th>\n",
              "      <td>/content/drive/MyDrive/Colab Notebooks/data/set-lipstick-original/images/image00000062.jpg</td>\n",
              "      <td>00000062</td>\n",
              "    </tr>\n",
              "    <tr>\n",
              "      <th>28067</th>\n",
              "      <td>/content/drive/MyDrive/Colab Notebooks/data/set-lipstick-original/images/image00000079.jpg</td>\n",
              "      <td>00000079</td>\n",
              "    </tr>\n",
              "    <tr>\n",
              "      <th>28068</th>\n",
              "      <td>/content/drive/MyDrive/Colab Notebooks/data/set-lipstick-original/images/image00000068.jpg</td>\n",
              "      <td>00000068</td>\n",
              "    </tr>\n",
              "    <tr>\n",
              "      <th>28069</th>\n",
              "      <td>/content/drive/MyDrive/Colab Notebooks/data/set-lipstick-original/images/image00000069.jpg</td>\n",
              "      <td>00000069</td>\n",
              "    </tr>\n",
              "  </tbody>\n",
              "</table>\n",
              "<p>28070 rows × 2 columns</p>\n",
              "</div>"
            ],
            "text/plain": [
              "                                                                                             lips       ind\n",
              "0      /content/drive/MyDrive/Colab Notebooks/data/set-lipstick-original/images/image00027049.jpg  00027049\n",
              "1      /content/drive/MyDrive/Colab Notebooks/data/set-lipstick-original/images/image00027253.jpg  00027253\n",
              "2      /content/drive/MyDrive/Colab Notebooks/data/set-lipstick-original/images/image00027087.jpg  00027087\n",
              "3      /content/drive/MyDrive/Colab Notebooks/data/set-lipstick-original/images/image00027320.jpg  00027320\n",
              "4      /content/drive/MyDrive/Colab Notebooks/data/set-lipstick-original/images/image00027083.jpg  00027083\n",
              "...                                                                                           ...       ...\n",
              "28065  /content/drive/MyDrive/Colab Notebooks/data/set-lipstick-original/images/image00000066.jpg  00000066\n",
              "28066  /content/drive/MyDrive/Colab Notebooks/data/set-lipstick-original/images/image00000062.jpg  00000062\n",
              "28067  /content/drive/MyDrive/Colab Notebooks/data/set-lipstick-original/images/image00000079.jpg  00000079\n",
              "28068  /content/drive/MyDrive/Colab Notebooks/data/set-lipstick-original/images/image00000068.jpg  00000068\n",
              "28069  /content/drive/MyDrive/Colab Notebooks/data/set-lipstick-original/images/image00000069.jpg  00000069\n",
              "\n",
              "[28070 rows x 2 columns]"
            ]
          },
          "metadata": {
            "tags": []
          },
          "execution_count": 56
        }
      ]
    },
    {
      "cell_type": "code",
      "metadata": {
        "colab": {
          "base_uri": "https://localhost:8080/",
          "height": 206
        },
        "id": "p3-2qXTGRgbk",
        "outputId": "0ece973e-2b27-4ff1-f3f6-1312ee020dc9"
      },
      "source": [
        "df = lips.merge(mask).drop(['ind'], axis = 1)\n",
        "# Отсортируем  датафрейм по значениям\n",
        "df.sort_values(by='lips',inplace=True)\n",
        "df.reset_index(drop=True, inplace=True)\n",
        "df.head(5)"
      ],
      "execution_count": null,
      "outputs": [
        {
          "output_type": "execute_result",
          "data": {
            "text/html": [
              "<div>\n",
              "<style scoped>\n",
              "    .dataframe tbody tr th:only-of-type {\n",
              "        vertical-align: middle;\n",
              "    }\n",
              "\n",
              "    .dataframe tbody tr th {\n",
              "        vertical-align: top;\n",
              "    }\n",
              "\n",
              "    .dataframe thead th {\n",
              "        text-align: right;\n",
              "    }\n",
              "</style>\n",
              "<table border=\"1\" class=\"dataframe\">\n",
              "  <thead>\n",
              "    <tr style=\"text-align: right;\">\n",
              "      <th></th>\n",
              "      <th>lips</th>\n",
              "      <th>mask</th>\n",
              "    </tr>\n",
              "  </thead>\n",
              "  <tbody>\n",
              "    <tr>\n",
              "      <th>0</th>\n",
              "      <td>/content/drive/MyDrive/Colab Notebooks/data/set-lipstick-original/images/image00000001.jpg</td>\n",
              "      <td>/content/drive/MyDrive/Colab Notebooks/data/set-lipstick-original/mask/mask00000001.png</td>\n",
              "    </tr>\n",
              "    <tr>\n",
              "      <th>1</th>\n",
              "      <td>/content/drive/MyDrive/Colab Notebooks/data/set-lipstick-original/images/image00000002.jpg</td>\n",
              "      <td>/content/drive/MyDrive/Colab Notebooks/data/set-lipstick-original/mask/mask00000002.png</td>\n",
              "    </tr>\n",
              "    <tr>\n",
              "      <th>2</th>\n",
              "      <td>/content/drive/MyDrive/Colab Notebooks/data/set-lipstick-original/images/image00000003.jpg</td>\n",
              "      <td>/content/drive/MyDrive/Colab Notebooks/data/set-lipstick-original/mask/mask00000003.png</td>\n",
              "    </tr>\n",
              "    <tr>\n",
              "      <th>3</th>\n",
              "      <td>/content/drive/MyDrive/Colab Notebooks/data/set-lipstick-original/images/image00000004.jpg</td>\n",
              "      <td>/content/drive/MyDrive/Colab Notebooks/data/set-lipstick-original/mask/mask00000004.png</td>\n",
              "    </tr>\n",
              "    <tr>\n",
              "      <th>4</th>\n",
              "      <td>/content/drive/MyDrive/Colab Notebooks/data/set-lipstick-original/images/image00000005.jpg</td>\n",
              "      <td>/content/drive/MyDrive/Colab Notebooks/data/set-lipstick-original/mask/mask00000005.png</td>\n",
              "    </tr>\n",
              "  </tbody>\n",
              "</table>\n",
              "</div>"
            ],
            "text/plain": [
              "                                                                                         lips                                                                                     mask\n",
              "0  /content/drive/MyDrive/Colab Notebooks/data/set-lipstick-original/images/image00000001.jpg  /content/drive/MyDrive/Colab Notebooks/data/set-lipstick-original/mask/mask00000001.png\n",
              "1  /content/drive/MyDrive/Colab Notebooks/data/set-lipstick-original/images/image00000002.jpg  /content/drive/MyDrive/Colab Notebooks/data/set-lipstick-original/mask/mask00000002.png\n",
              "2  /content/drive/MyDrive/Colab Notebooks/data/set-lipstick-original/images/image00000003.jpg  /content/drive/MyDrive/Colab Notebooks/data/set-lipstick-original/mask/mask00000003.png\n",
              "3  /content/drive/MyDrive/Colab Notebooks/data/set-lipstick-original/images/image00000004.jpg  /content/drive/MyDrive/Colab Notebooks/data/set-lipstick-original/mask/mask00000004.png\n",
              "4  /content/drive/MyDrive/Colab Notebooks/data/set-lipstick-original/images/image00000005.jpg  /content/drive/MyDrive/Colab Notebooks/data/set-lipstick-original/mask/mask00000005.png"
            ]
          },
          "metadata": {
            "tags": []
          },
          "execution_count": 57
        }
      ]
    },
    {
      "cell_type": "code",
      "metadata": {
        "colab": {
          "base_uri": "https://localhost:8080/",
          "height": 424
        },
        "id": "m4xitB-_b5aH",
        "outputId": "e7da2c6a-f248-4488-9704-e27d46f059a6"
      },
      "source": [
        "df = df[:3000] # сократим количество примеров для ускорения\n",
        "df"
      ],
      "execution_count": null,
      "outputs": [
        {
          "output_type": "execute_result",
          "data": {
            "text/html": [
              "<div>\n",
              "<style scoped>\n",
              "    .dataframe tbody tr th:only-of-type {\n",
              "        vertical-align: middle;\n",
              "    }\n",
              "\n",
              "    .dataframe tbody tr th {\n",
              "        vertical-align: top;\n",
              "    }\n",
              "\n",
              "    .dataframe thead th {\n",
              "        text-align: right;\n",
              "    }\n",
              "</style>\n",
              "<table border=\"1\" class=\"dataframe\">\n",
              "  <thead>\n",
              "    <tr style=\"text-align: right;\">\n",
              "      <th></th>\n",
              "      <th>lips</th>\n",
              "      <th>mask</th>\n",
              "    </tr>\n",
              "  </thead>\n",
              "  <tbody>\n",
              "    <tr>\n",
              "      <th>0</th>\n",
              "      <td>/content/drive/MyDrive/Colab Notebooks/data/set-lipstick-original/images/image00000001.jpg</td>\n",
              "      <td>/content/drive/MyDrive/Colab Notebooks/data/set-lipstick-original/mask/mask00000001.png</td>\n",
              "    </tr>\n",
              "    <tr>\n",
              "      <th>1</th>\n",
              "      <td>/content/drive/MyDrive/Colab Notebooks/data/set-lipstick-original/images/image00000002.jpg</td>\n",
              "      <td>/content/drive/MyDrive/Colab Notebooks/data/set-lipstick-original/mask/mask00000002.png</td>\n",
              "    </tr>\n",
              "    <tr>\n",
              "      <th>2</th>\n",
              "      <td>/content/drive/MyDrive/Colab Notebooks/data/set-lipstick-original/images/image00000003.jpg</td>\n",
              "      <td>/content/drive/MyDrive/Colab Notebooks/data/set-lipstick-original/mask/mask00000003.png</td>\n",
              "    </tr>\n",
              "    <tr>\n",
              "      <th>3</th>\n",
              "      <td>/content/drive/MyDrive/Colab Notebooks/data/set-lipstick-original/images/image00000004.jpg</td>\n",
              "      <td>/content/drive/MyDrive/Colab Notebooks/data/set-lipstick-original/mask/mask00000004.png</td>\n",
              "    </tr>\n",
              "    <tr>\n",
              "      <th>4</th>\n",
              "      <td>/content/drive/MyDrive/Colab Notebooks/data/set-lipstick-original/images/image00000005.jpg</td>\n",
              "      <td>/content/drive/MyDrive/Colab Notebooks/data/set-lipstick-original/mask/mask00000005.png</td>\n",
              "    </tr>\n",
              "    <tr>\n",
              "      <th>...</th>\n",
              "      <td>...</td>\n",
              "      <td>...</td>\n",
              "    </tr>\n",
              "    <tr>\n",
              "      <th>2995</th>\n",
              "      <td>/content/drive/MyDrive/Colab Notebooks/data/set-lipstick-original/images/image00002996.jpg</td>\n",
              "      <td>/content/drive/MyDrive/Colab Notebooks/data/set-lipstick-original/mask/mask00002996.png</td>\n",
              "    </tr>\n",
              "    <tr>\n",
              "      <th>2996</th>\n",
              "      <td>/content/drive/MyDrive/Colab Notebooks/data/set-lipstick-original/images/image00002997.jpg</td>\n",
              "      <td>/content/drive/MyDrive/Colab Notebooks/data/set-lipstick-original/mask/mask00002997.png</td>\n",
              "    </tr>\n",
              "    <tr>\n",
              "      <th>2997</th>\n",
              "      <td>/content/drive/MyDrive/Colab Notebooks/data/set-lipstick-original/images/image00002998.jpg</td>\n",
              "      <td>/content/drive/MyDrive/Colab Notebooks/data/set-lipstick-original/mask/mask00002998.png</td>\n",
              "    </tr>\n",
              "    <tr>\n",
              "      <th>2998</th>\n",
              "      <td>/content/drive/MyDrive/Colab Notebooks/data/set-lipstick-original/images/image00002999.jpg</td>\n",
              "      <td>/content/drive/MyDrive/Colab Notebooks/data/set-lipstick-original/mask/mask00002999.png</td>\n",
              "    </tr>\n",
              "    <tr>\n",
              "      <th>2999</th>\n",
              "      <td>/content/drive/MyDrive/Colab Notebooks/data/set-lipstick-original/images/image00003000.jpg</td>\n",
              "      <td>/content/drive/MyDrive/Colab Notebooks/data/set-lipstick-original/mask/mask00003000.png</td>\n",
              "    </tr>\n",
              "  </tbody>\n",
              "</table>\n",
              "<p>3000 rows × 2 columns</p>\n",
              "</div>"
            ],
            "text/plain": [
              "                                                                                            lips                                                                                     mask\n",
              "0     /content/drive/MyDrive/Colab Notebooks/data/set-lipstick-original/images/image00000001.jpg  /content/drive/MyDrive/Colab Notebooks/data/set-lipstick-original/mask/mask00000001.png\n",
              "1     /content/drive/MyDrive/Colab Notebooks/data/set-lipstick-original/images/image00000002.jpg  /content/drive/MyDrive/Colab Notebooks/data/set-lipstick-original/mask/mask00000002.png\n",
              "2     /content/drive/MyDrive/Colab Notebooks/data/set-lipstick-original/images/image00000003.jpg  /content/drive/MyDrive/Colab Notebooks/data/set-lipstick-original/mask/mask00000003.png\n",
              "3     /content/drive/MyDrive/Colab Notebooks/data/set-lipstick-original/images/image00000004.jpg  /content/drive/MyDrive/Colab Notebooks/data/set-lipstick-original/mask/mask00000004.png\n",
              "4     /content/drive/MyDrive/Colab Notebooks/data/set-lipstick-original/images/image00000005.jpg  /content/drive/MyDrive/Colab Notebooks/data/set-lipstick-original/mask/mask00000005.png\n",
              "...                                                                                          ...                                                                                      ...\n",
              "2995  /content/drive/MyDrive/Colab Notebooks/data/set-lipstick-original/images/image00002996.jpg  /content/drive/MyDrive/Colab Notebooks/data/set-lipstick-original/mask/mask00002996.png\n",
              "2996  /content/drive/MyDrive/Colab Notebooks/data/set-lipstick-original/images/image00002997.jpg  /content/drive/MyDrive/Colab Notebooks/data/set-lipstick-original/mask/mask00002997.png\n",
              "2997  /content/drive/MyDrive/Colab Notebooks/data/set-lipstick-original/images/image00002998.jpg  /content/drive/MyDrive/Colab Notebooks/data/set-lipstick-original/mask/mask00002998.png\n",
              "2998  /content/drive/MyDrive/Colab Notebooks/data/set-lipstick-original/images/image00002999.jpg  /content/drive/MyDrive/Colab Notebooks/data/set-lipstick-original/mask/mask00002999.png\n",
              "2999  /content/drive/MyDrive/Colab Notebooks/data/set-lipstick-original/images/image00003000.jpg  /content/drive/MyDrive/Colab Notebooks/data/set-lipstick-original/mask/mask00003000.png\n",
              "\n",
              "[3000 rows x 2 columns]"
            ]
          },
          "metadata": {
            "tags": []
          },
          "execution_count": 59
        }
      ]
    },
    {
      "cell_type": "code",
      "metadata": {
        "id": "Fb_Oju-Gb5jJ"
      },
      "source": [
        "def img_to_bin(read_path, write_path):\n",
        "    img = cv2.cvtColor(cv2.imread(str(read_path)), cv2.COLOR_BGR2RGB)\n",
        "\n",
        "    height, width, channels = img.shape\n",
        "    img_binary = np.zeros((height,width,1))\n",
        "    img_grayscale = cv2.cvtColor(img, cv2.COLOR_BGR2GRAY) #grayscale\n",
        "    (thresh, img_binary) = cv2.threshold(img_grayscale, 128, 255, cv2.THRESH_BINARY | cv2.THRESH_OTSU)\n",
        "    img_binary = cv2.bitwise_not(img_binary) #invert img\n",
        "    new_path = str(write_path/read_path.parts[-1])\n",
        "    cv2.imwrite(new_path, img_binary)\n",
        "    return new_path\n",
        "\n",
        "\n",
        "\n"
      ],
      "execution_count": null,
      "outputs": []
    },
    {
      "cell_type": "code",
      "metadata": {
        "colab": {
          "base_uri": "https://localhost:8080/",
          "height": 293
        },
        "id": "gwYi-sT0b5oz",
        "outputId": "b6af39eb-19a7-416c-8fcd-4e6aa052c82b"
      },
      "source": [
        "new_paths = []\n",
        "bin_path = Path('/content/drive/MyDrive/Colab Notebooks/data/set-lipstick-original/mask_inverted/')\n",
        "for index, row in df.iterrows():\n",
        "  new_path = img_to_bin(Path(row['mask']), bin_path)\n",
        "  new_paths.append(new_path)\n",
        "df['mask_bin'] = new_paths\n",
        "df.head()\n"
      ],
      "execution_count": null,
      "outputs": [
        {
          "output_type": "execute_result",
          "data": {
            "text/html": [
              "<div>\n",
              "<style scoped>\n",
              "    .dataframe tbody tr th:only-of-type {\n",
              "        vertical-align: middle;\n",
              "    }\n",
              "\n",
              "    .dataframe tbody tr th {\n",
              "        vertical-align: top;\n",
              "    }\n",
              "\n",
              "    .dataframe thead th {\n",
              "        text-align: right;\n",
              "    }\n",
              "</style>\n",
              "<table border=\"1\" class=\"dataframe\">\n",
              "  <thead>\n",
              "    <tr style=\"text-align: right;\">\n",
              "      <th></th>\n",
              "      <th>lips</th>\n",
              "      <th>mask</th>\n",
              "      <th>mask_bin</th>\n",
              "    </tr>\n",
              "  </thead>\n",
              "  <tbody>\n",
              "    <tr>\n",
              "      <th>0</th>\n",
              "      <td>/content/drive/MyDrive/Colab Notebooks/data/set-lipstick-original/images/image00000001.jpg</td>\n",
              "      <td>/content/drive/MyDrive/Colab Notebooks/data/set-lipstick-original/mask/mask00000001.png</td>\n",
              "      <td>/content/drive/MyDrive/Colab Notebooks/data/set-lipstick-original/mask_inverted/mask00000001.png</td>\n",
              "    </tr>\n",
              "    <tr>\n",
              "      <th>1</th>\n",
              "      <td>/content/drive/MyDrive/Colab Notebooks/data/set-lipstick-original/images/image00000002.jpg</td>\n",
              "      <td>/content/drive/MyDrive/Colab Notebooks/data/set-lipstick-original/mask/mask00000002.png</td>\n",
              "      <td>/content/drive/MyDrive/Colab Notebooks/data/set-lipstick-original/mask_inverted/mask00000002.png</td>\n",
              "    </tr>\n",
              "    <tr>\n",
              "      <th>2</th>\n",
              "      <td>/content/drive/MyDrive/Colab Notebooks/data/set-lipstick-original/images/image00000003.jpg</td>\n",
              "      <td>/content/drive/MyDrive/Colab Notebooks/data/set-lipstick-original/mask/mask00000003.png</td>\n",
              "      <td>/content/drive/MyDrive/Colab Notebooks/data/set-lipstick-original/mask_inverted/mask00000003.png</td>\n",
              "    </tr>\n",
              "    <tr>\n",
              "      <th>3</th>\n",
              "      <td>/content/drive/MyDrive/Colab Notebooks/data/set-lipstick-original/images/image00000004.jpg</td>\n",
              "      <td>/content/drive/MyDrive/Colab Notebooks/data/set-lipstick-original/mask/mask00000004.png</td>\n",
              "      <td>/content/drive/MyDrive/Colab Notebooks/data/set-lipstick-original/mask_inverted/mask00000004.png</td>\n",
              "    </tr>\n",
              "    <tr>\n",
              "      <th>4</th>\n",
              "      <td>/content/drive/MyDrive/Colab Notebooks/data/set-lipstick-original/images/image00000005.jpg</td>\n",
              "      <td>/content/drive/MyDrive/Colab Notebooks/data/set-lipstick-original/mask/mask00000005.png</td>\n",
              "      <td>/content/drive/MyDrive/Colab Notebooks/data/set-lipstick-original/mask_inverted/mask00000005.png</td>\n",
              "    </tr>\n",
              "  </tbody>\n",
              "</table>\n",
              "</div>"
            ],
            "text/plain": [
              "                                                                                         lips  ...                                                                                          mask_bin\n",
              "0  /content/drive/MyDrive/Colab Notebooks/data/set-lipstick-original/images/image00000001.jpg  ...  /content/drive/MyDrive/Colab Notebooks/data/set-lipstick-original/mask_inverted/mask00000001.png\n",
              "1  /content/drive/MyDrive/Colab Notebooks/data/set-lipstick-original/images/image00000002.jpg  ...  /content/drive/MyDrive/Colab Notebooks/data/set-lipstick-original/mask_inverted/mask00000002.png\n",
              "2  /content/drive/MyDrive/Colab Notebooks/data/set-lipstick-original/images/image00000003.jpg  ...  /content/drive/MyDrive/Colab Notebooks/data/set-lipstick-original/mask_inverted/mask00000003.png\n",
              "3  /content/drive/MyDrive/Colab Notebooks/data/set-lipstick-original/images/image00000004.jpg  ...  /content/drive/MyDrive/Colab Notebooks/data/set-lipstick-original/mask_inverted/mask00000004.png\n",
              "4  /content/drive/MyDrive/Colab Notebooks/data/set-lipstick-original/images/image00000005.jpg  ...  /content/drive/MyDrive/Colab Notebooks/data/set-lipstick-original/mask_inverted/mask00000005.png\n",
              "\n",
              "[5 rows x 3 columns]"
            ]
          },
          "metadata": {
            "tags": []
          },
          "execution_count": 72
        }
      ]
    },
    {
      "cell_type": "code",
      "metadata": {
        "id": "HdPk0HfLry1E"
      },
      "source": [
        "#df.to_csv('/content/drive/MyDrive/Colab Notebooks/data/set-lipstick-original/path_lips.csv', index = False)\n",
        "df = pd.read_csv(\"/content/drive/MyDrive/Colab Notebooks/data/set-lipstick-original/path_lips.csv\")"
      ],
      "execution_count": 5,
      "outputs": []
    },
    {
      "cell_type": "code",
      "metadata": {
        "id": "1s8MSFBWDb4I"
      },
      "source": [
        "labels = [ 'Lips']"
      ],
      "execution_count": 6,
      "outputs": []
    },
    {
      "cell_type": "code",
      "metadata": {
        "colab": {
          "base_uri": "https://localhost:8080/",
          "height": 270
        },
        "id": "wFcPgXUOfVDu",
        "outputId": "db61ab77-a8df-4780-a3c8-28d998f7f46a"
      },
      "source": [
        "for i in range(1):\n",
        "    mask = plt.imread('/content/drive/MyDrive/Colab Notebooks/data/set-lipstick-original/mask_inverted/mask00000042.png')*255\n",
        "    mask = np.where(mask == i, 255, 0)\n",
        "#     mask = mask[:,:,0]\n",
        "    print(np.unique(mask))\n",
        "    plt.title(f'class: {labels[i]}')\n",
        "    plt.imshow(mask)\n",
        "    plt.show()"
      ],
      "execution_count": 7,
      "outputs": [
        {
          "output_type": "stream",
          "text": [
            "[  0 255]\n"
          ],
          "name": "stdout"
        },
        {
          "output_type": "display_data",
          "data": {
            "image/png": "[encoded data removed]",
            "text/plain": [
              "<Figure size 432x288 with 1 Axes>"
            ]
          },
          "metadata": {
            "tags": [],
            "needs_background": "light"
          }
        }
      ]
    },
    {
      "cell_type": "code",
      "metadata": {
        "id": "yloAsOxFb5sQ"
      },
      "source": [
        "class CustomDatasetFromImages(Dataset):\n",
        "    def __init__(self, data_info):\n",
        "        # Подаем наш подготовленный датафрейм\n",
        "        self.data_info = data_info\n",
        "        \n",
        "        # Разделяем датафрейм на rgb картинки \n",
        "        self.image_arr = self.data_info.iloc[:,0]\n",
        "        # и на сегментированные картинки\n",
        "        self.label_arr = self.data_info.iloc[:,2]\n",
        "        \n",
        "        # Количество пар картинка-сегментация\n",
        "        self.data_len = len(self.data_info.index)\n",
        "        \n",
        "        # convert str names to class values on masks\n",
        "        # Конвертируем стринговые имена в значения класса на маске\n",
        "        self.class_values = [labels.index(cls) for cls in labels]\n",
        "        \n",
        "    def __getitem__(self, index):\n",
        "        # Читаем картинку и сразу же представляем ее в виде numpy-массива \n",
        "        # размера 600х800 float-значний\n",
        "        img = Image.open(self.image_arr[index])\n",
        "        # Преобразовываем к размеру 256х256\n",
        "        img = img.resize((256, 256))\n",
        "        img = np.asarray(img).astype('float')\n",
        "        # Нормализуем изображение в значениях [0,1]\n",
        "        img = torch.as_tensor(img)/255    \n",
        "        # Количество каналов ставим на первый план - этого хочет pytorch\n",
        "        img = img.permute(2,0,1).float()\n",
        "        \n",
        "        # Считываем нашу маску\n",
        "        mask = np.asarray(plt.imread(self.label_arr[index]))*255\n",
        "\n",
        "        # Здесь мы создаем список бинарных масок из нашей одной общей маски \n",
        "        masks = [(mask == v) for v in self.class_values]\n",
        "        # Стекаем все вместе в один многомерный тензор масок\n",
        "        mask = np.stack(masks, axis=-1).astype('float')\n",
        "\n",
        "        #  Приводим к типу тензора\n",
        "        mask = torch.as_tensor(mask)\n",
        "\n",
        "#         mask = mask.view(mask.shape[0], mask.shape[1], 1)\n",
        "#         mask = torch.FloatTensor(mask[None,].type(torch.float32))\n",
        "#         print(mask.size())\n",
        "        # Размерность каналов на передний план\n",
        "        mask = mask.permute(2, 0, 1)\n",
        "\n",
        "        \n",
        "        # делаем ресайз маски на 256х256\n",
        "        # Для этого используем функцию interpolate\n",
        "        ### Что бы ресайзить и высоту и ширину картинки, нужно перед interpolate\n",
        "        ### пороизвести unsqueeze над тензором, и squeeze после.\n",
        "        # unsqueeze - меняет размерность img c (256, 256, 3) -> (1, 256, 256, 3),\n",
        "        mask = mask.unsqueeze(0)\n",
        "        mask = F.interpolate(input=mask, size=256, mode='nearest')\n",
        "        mask=mask.squeeze(0)\n",
        "#         print(mask.size())\n",
        "\n",
        "        \n",
        "        return (img, mask)\n",
        "\n",
        "    def __len__(self):\n",
        "        return self.data_len"
      ],
      "execution_count": 8,
      "outputs": []
    },
    {
      "cell_type": "code",
      "metadata": {
        "id": "QcMAmh7CgZiH"
      },
      "source": [
        "from sklearn.model_selection import train_test_split\n",
        "\n",
        "#labels = [ 'Unlabeled','Lips']\n",
        "\n",
        "# 70 % в тренировочную выборку, 30 - в тестовую\n",
        "X_train, X_test = train_test_split(df,test_size=0.3)\n",
        "\n",
        "# Упорядочиваем индексацию\n",
        "X_train.reset_index(drop=True,inplace=True)\n",
        "X_test.reset_index(drop=True,inplace=True)\n",
        "\n",
        "# Оборачиваем каждую выборку в наш кастомный датасет\n",
        "train_data = CustomDatasetFromImages(X_train)\n",
        "test_data = CustomDatasetFromImages(X_test)\n",
        "\n"
      ],
      "execution_count": 9,
      "outputs": []
    },
    {
      "cell_type": "code",
      "metadata": {
        "id": "GY9KnO15hXrw"
      },
      "source": [
        "train_data_loader = DataLoader(train_data,batch_size=8,shuffle=True)\n",
        "test_data_loader = DataLoader(test_data,batch_size=5,shuffle=False)"
      ],
      "execution_count": 10,
      "outputs": []
    },
    {
      "cell_type": "code",
      "metadata": {
        "colab": {
          "base_uri": "https://localhost:8080/"
        },
        "id": "Nz73iW0xhy1e",
        "outputId": "82ffa572-eb6d-42dc-d6dd-7db2900186d2"
      },
      "source": [
        "device = torch.device(\"cuda:0\" if torch.cuda.is_available() else \"cpu\")\n",
        "device"
      ],
      "execution_count": 11,
      "outputs": [
        {
          "output_type": "execute_result",
          "data": {
            "text/plain": [
              "device(type='cpu')"
            ]
          },
          "metadata": {
            "tags": []
          },
          "execution_count": 11
        }
      ]
    },
    {
      "cell_type": "code",
      "metadata": {
        "colab": {
          "base_uri": "https://localhost:8080/"
        },
        "id": "_oyTbkqCARZ-",
        "outputId": "7278117d-f427-4019-b605-0be7c2cfd9db"
      },
      "source": [
        "!pip install segmentation_models_pytorch"
      ],
      "execution_count": 12,
      "outputs": [
        {
          "output_type": "stream",
          "text": [
            "Collecting segmentation_models_pytorch\n",
            "\u001b[?25l  Downloading https://files.pythonhosted.org/packages/65/54/8953f9f7ee9d451b0f3be8d635aa3a654579abf898d17502a090efe1155a/segmentation_models_pytorch-0.1.3-py3-none-any.whl (66kB)\n",
            "\r\u001b[K     |█████                           | 10kB 14.5MB/s eta 0:00:01\r\u001b[K     |██████████                      | 20kB 1.3MB/s eta 0:00:01\r\u001b[K     |██████████████▉                 | 30kB 1.9MB/s eta 0:00:01\r\u001b[K     |███████████████████▉            | 40kB 2.6MB/s eta 0:00:01\r\u001b[K     |████████████████████████▉       | 51kB 3.1MB/s eta 0:00:01\r\u001b[K     |█████████████████████████████▊  | 61kB 3.7MB/s eta 0:00:01\r\u001b[K     |████████████████████████████████| 71kB 3.0MB/s \n",
            "\u001b[?25hRequirement already satisfied: torchvision>=0.3.0 in /usr/local/lib/python3.7/dist-packages (from segmentation_models_pytorch) (0.9.1+cu101)\n",
            "Collecting timm==0.3.2\n",
            "\u001b[?25l  Downloading https://files.pythonhosted.org/packages/51/2d/39ecc56fbb202e1891c317e8e44667299bc3b0762ea2ed6aaaa2c2f6613c/timm-0.3.2-py3-none-any.whl (244kB)\n",
            "\u001b[K     |████████████████████████████████| 245kB 10.5MB/s \n",
            "\u001b[?25hCollecting efficientnet-pytorch==0.6.3\n",
            "  Downloading https://files.pythonhosted.org/packages/b8/cb/0309a6e3d404862ae4bc017f89645cf150ac94c14c88ef81d215c8e52925/efficientnet_pytorch-0.6.3.tar.gz\n",
            "Collecting pretrainedmodels==0.7.4\n",
            "\u001b[?25l  Downloading https://files.pythonhosted.org/packages/84/0e/be6a0e58447ac16c938799d49bfb5fb7a80ac35e137547fc6cee2c08c4cf/pretrainedmodels-0.7.4.tar.gz (58kB)\n",
            "\u001b[K     |████████████████████████████████| 61kB 7.0MB/s \n",
            "\u001b[?25hRequirement already satisfied: torch==1.8.1 in /usr/local/lib/python3.7/dist-packages (from torchvision>=0.3.0->segmentation_models_pytorch) (1.8.1+cu101)\n",
            "Requirement already satisfied: pillow>=4.1.1 in /usr/local/lib/python3.7/dist-packages (from torchvision>=0.3.0->segmentation_models_pytorch) (7.1.2)\n",
            "Requirement already satisfied: numpy in /usr/local/lib/python3.7/dist-packages (from torchvision>=0.3.0->segmentation_models_pytorch) (1.19.5)\n",
            "Collecting munch\n",
            "  Downloading https://files.pythonhosted.org/packages/cc/ab/85d8da5c9a45e072301beb37ad7f833cd344e04c817d97e0cc75681d248f/munch-2.5.0-py2.py3-none-any.whl\n",
            "Requirement already satisfied: tqdm in /usr/local/lib/python3.7/dist-packages (from pretrainedmodels==0.7.4->segmentation_models_pytorch) (4.41.1)\n",
            "Requirement already satisfied: typing-extensions in /usr/local/lib/python3.7/dist-packages (from torch==1.8.1->torchvision>=0.3.0->segmentation_models_pytorch) (3.7.4.3)\n",
            "Requirement already satisfied: six in /usr/local/lib/python3.7/dist-packages (from munch->pretrainedmodels==0.7.4->segmentation_models_pytorch) (1.15.0)\n",
            "Building wheels for collected packages: efficientnet-pytorch, pretrainedmodels\n",
            "  Building wheel for efficientnet-pytorch (setup.py) ... \u001b[?25l\u001b[?25hdone\n",
            "  Created wheel for efficientnet-pytorch: filename=efficientnet_pytorch-0.6.3-cp37-none-any.whl size=12420 sha256=d6c754a533a981919e7bb34fac024a29b196f1cc8cecdb1a6299555c51ccf4db\n",
            "  Stored in directory: /root/.cache/pip/wheels/42/1e/a9/2a578ba9ad04e776e80bf0f70d8a7f4c29ec0718b92d8f6ccd\n",
            "  Building wheel for pretrainedmodels (setup.py) ... \u001b[?25l\u001b[?25hdone\n",
            "  Created wheel for pretrainedmodels: filename=pretrainedmodels-0.7.4-cp37-none-any.whl size=60966 sha256=ce453fb36b0cd4b8f97e2854c917b097ea0157645532dba2e95698e52a7d33c8\n",
            "  Stored in directory: /root/.cache/pip/wheels/69/df/63/62583c096289713f22db605aa2334de5b591d59861a02c2ecd\n",
            "Successfully built efficientnet-pytorch pretrainedmodels\n",
            "Installing collected packages: timm, efficientnet-pytorch, munch, pretrainedmodels, segmentation-models-pytorch\n",
            "Successfully installed efficientnet-pytorch-0.6.3 munch-2.5.0 pretrainedmodels-0.7.4 segmentation-models-pytorch-0.1.3 timm-0.3.2\n"
          ],
          "name": "stdout"
        }
      ]
    },
    {
      "cell_type": "code",
      "metadata": {
        "id": "IPlY0n61gp-E",
        "colab": {
          "base_uri": "https://localhost:8080/"
        },
        "outputId": "bdfc04dc-c4e3-4045-d581-0e6886ce480b"
      },
      "source": [
        "import segmentation_models_pytorch as smp\n",
        "import time\n",
        "\n",
        "# создание модели\n",
        "segmodel = smp.Unet()\n",
        "segmodel = smp.Unet('resnet34', encoder_weights = 'imagenet', classes=1, activation='sigmoid').to(device)\n",
        "\n",
        "loss = smp.utils.losses.DiceLoss()\n",
        "metrics = [\n",
        "    smp.utils.metrics.IoU(threshold=0.5),\n",
        "]\n",
        "\n",
        "optimizer = torch.optim.Adam([ \n",
        "    dict(params=segmodel.parameters(), lr=0.001),\n",
        "])\n",
        "\n",
        "train_epoch = smp.utils.train.TrainEpoch(\n",
        "    segmodel, \n",
        "    loss=loss, \n",
        "    metrics=metrics, \n",
        "    optimizer=optimizer,\n",
        "    device=device,\n",
        "    verbose=True,\n",
        ")\n",
        "\n",
        "valid_epoch = smp.utils.train.ValidEpoch(\n",
        "    segmodel, \n",
        "    loss=loss, \n",
        "    metrics=metrics, \n",
        "    device=device,\n",
        "    verbose=True,\n",
        ")\n",
        "\n",
        "max_score = 0\n",
        "\n",
        "for i in range(0, 2):\n",
        "    \n",
        "    print('\\nEpoch: {}'.format(i))\n",
        "    train_logs = train_epoch.run(train_data_loader)\n",
        "    valid_logs = valid_epoch.run(test_data_loader)\n",
        "    \n",
        "    # do something (save model, change lr, etc.)\n",
        "#     if max_score < valid_logs['fscore']:\n",
        "#         max_score = valid_logs['fscore']\n",
        "    if max_score < valid_logs['iou_score']:\n",
        "        max_score = valid_logs['iou_score']\n",
        "        torch.save(segmodel, './best_smp_model.pth')\n",
        "        print('Model saved!')\n",
        "        \n",
        "    if i == 3:\n",
        "        optimizer.param_groups[0]['lr'] = 1e-5\n",
        "        print('Decrease decoder learning rate to 1e-5!')\n",
        "\n"
      ],
      "execution_count": 14,
      "outputs": [
        {
          "output_type": "stream",
          "text": [
            "\n",
            "Epoch: 0\n",
            "train: 100%|██████████| 263/263 [55:08<00:00, 12.58s/it, dice_loss - 0.2677, iou_score - 0.7667]\n",
            "valid: 100%|██████████| 180/180 [11:44<00:00,  3.91s/it, dice_loss - 0.03952, iou_score - 0.9365]\n",
            "Model saved!\n",
            "\n",
            "Epoch: 1\n",
            "train: 100%|██████████| 263/263 [41:10<00:00,  9.39s/it, dice_loss - 0.03477, iou_score - 0.9406]\n",
            "valid: 100%|██████████| 180/180 [05:49<00:00,  1.94s/it, dice_loss - 0.03186, iou_score - 0.9436]\n",
            "Model saved!\n"
          ],
          "name": "stdout"
        }
      ]
    },
    {
      "cell_type": "code",
      "metadata": {
        "id": "2GtAuYE9IQJ8"
      },
      "source": [
        "def get_orig(image):\n",
        "    #image = images[0,:,:,:]\n",
        "    image = image.permute(1, 2, 0)\n",
        "    image = image.numpy()\n",
        "    image = np.clip(image, 0, 1)\n",
        "    return image"
      ],
      "execution_count": 15,
      "outputs": []
    },
    {
      "cell_type": "code",
      "metadata": {
        "id": "TihB8Vp3TLXh"
      },
      "source": [
        " torch.save(segmodel, '/content/drive/MyDrive/Colab Notebooks/data/set-lipstick-original/seg_model.pth')\n",
        "# segmodel = torch.load('./seg_model.pth')"
      ],
      "execution_count": 21,
      "outputs": []
    },
    {
      "cell_type": "code",
      "metadata": {
        "id": "QU0S6sloIT8f",
        "colab": {
          "base_uri": "https://localhost:8080/",
          "height": 650
        },
        "outputId": "8e6137c9-dcd7-4eaf-a73f-f8fcbfcb8790"
      },
      "source": [
        "for i, data in enumerate(test_data_loader):\n",
        "    images, labels = data\n",
        "    images = images.to(device)\n",
        "    labels = labels.to(device)\n",
        "    outputs = segmodel(images)\n",
        "    f, axarr = plt.subplots(1,3)\n",
        "\n",
        "    for j in range(0,5):\n",
        "        axarr[0].imshow(outputs.squeeze().detach().cpu().numpy()[j,:,:])\n",
        "        axarr[0].set_title('Guessed labels')\n",
        "\n",
        "        axarr[1].imshow(labels[j].permute(1, 2, 0).detach().cpu().numpy())\n",
        "        axarr[1].set_title('Ground truth labels')\n",
        "\n",
        "        original = images[j].cpu().permute(1, 2, 0)\n",
        "        axarr[2].imshow(original)\n",
        "        axarr[2].set_title('Original Images')\n",
        "        plt.show()\n",
        "        plt.gcf().show()\n",
        "    if i>5:\n",
        "        break"
      ],
      "execution_count": 22,
      "outputs": [
        {
          "output_type": "error",
          "ename": "TypeError",
          "evalue": "ignored",
          "traceback": [
            "\u001b[0;31m---------------------------------------------------------------------------\u001b[0m",
            "\u001b[0;31mTypeError\u001b[0m                                 Traceback (most recent call last)",
            "\u001b[0;32m<ipython-input-22-a2c9cb703a35>\u001b[0m in \u001b[0;36m<module>\u001b[0;34m()\u001b[0m\n\u001b[1;32m     10\u001b[0m         \u001b[0maxarr\u001b[0m\u001b[0;34m[\u001b[0m\u001b[0;36m0\u001b[0m\u001b[0;34m]\u001b[0m\u001b[0;34m.\u001b[0m\u001b[0mset_title\u001b[0m\u001b[0;34m(\u001b[0m\u001b[0;34m'Guessed labels'\u001b[0m\u001b[0;34m)\u001b[0m\u001b[0;34m\u001b[0m\u001b[0;34m\u001b[0m\u001b[0m\n\u001b[1;32m     11\u001b[0m \u001b[0;34m\u001b[0m\u001b[0m\n\u001b[0;32m---> 12\u001b[0;31m         \u001b[0maxarr\u001b[0m\u001b[0;34m[\u001b[0m\u001b[0;36m1\u001b[0m\u001b[0;34m]\u001b[0m\u001b[0;34m.\u001b[0m\u001b[0mimshow\u001b[0m\u001b[0;34m(\u001b[0m\u001b[0mlabels\u001b[0m\u001b[0;34m[\u001b[0m\u001b[0mj\u001b[0m\u001b[0;34m]\u001b[0m\u001b[0;34m.\u001b[0m\u001b[0mpermute\u001b[0m\u001b[0;34m(\u001b[0m\u001b[0;36m1\u001b[0m\u001b[0;34m,\u001b[0m \u001b[0;36m2\u001b[0m\u001b[0;34m,\u001b[0m \u001b[0;36m0\u001b[0m\u001b[0;34m)\u001b[0m\u001b[0;34m.\u001b[0m\u001b[0mdetach\u001b[0m\u001b[0;34m(\u001b[0m\u001b[0;34m)\u001b[0m\u001b[0;34m.\u001b[0m\u001b[0mcpu\u001b[0m\u001b[0;34m(\u001b[0m\u001b[0;34m)\u001b[0m\u001b[0;34m.\u001b[0m\u001b[0mnumpy\u001b[0m\u001b[0;34m(\u001b[0m\u001b[0;34m)\u001b[0m\u001b[0;34m)\u001b[0m\u001b[0;34m\u001b[0m\u001b[0;34m\u001b[0m\u001b[0m\n\u001b[0m\u001b[1;32m     13\u001b[0m         \u001b[0maxarr\u001b[0m\u001b[0;34m[\u001b[0m\u001b[0;36m1\u001b[0m\u001b[0;34m]\u001b[0m\u001b[0;34m.\u001b[0m\u001b[0mset_title\u001b[0m\u001b[0;34m(\u001b[0m\u001b[0;34m'Ground truth labels'\u001b[0m\u001b[0;34m)\u001b[0m\u001b[0;34m\u001b[0m\u001b[0;34m\u001b[0m\u001b[0m\n\u001b[1;32m     14\u001b[0m \u001b[0;34m\u001b[0m\u001b[0m\n",
            "\u001b[0;32m/usr/local/lib/python3.7/dist-packages/matplotlib/__init__.py\u001b[0m in \u001b[0;36minner\u001b[0;34m(ax, data, *args, **kwargs)\u001b[0m\n\u001b[1;32m   1563\u001b[0m     \u001b[0;32mdef\u001b[0m \u001b[0minner\u001b[0m\u001b[0;34m(\u001b[0m\u001b[0max\u001b[0m\u001b[0;34m,\u001b[0m \u001b[0;34m*\u001b[0m\u001b[0margs\u001b[0m\u001b[0;34m,\u001b[0m \u001b[0mdata\u001b[0m\u001b[0;34m=\u001b[0m\u001b[0;32mNone\u001b[0m\u001b[0;34m,\u001b[0m \u001b[0;34m**\u001b[0m\u001b[0mkwargs\u001b[0m\u001b[0;34m)\u001b[0m\u001b[0;34m:\u001b[0m\u001b[0;34m\u001b[0m\u001b[0;34m\u001b[0m\u001b[0m\n\u001b[1;32m   1564\u001b[0m         \u001b[0;32mif\u001b[0m \u001b[0mdata\u001b[0m \u001b[0;32mis\u001b[0m \u001b[0;32mNone\u001b[0m\u001b[0;34m:\u001b[0m\u001b[0;34m\u001b[0m\u001b[0;34m\u001b[0m\u001b[0m\n\u001b[0;32m-> 1565\u001b[0;31m             \u001b[0;32mreturn\u001b[0m \u001b[0mfunc\u001b[0m\u001b[0;34m(\u001b[0m\u001b[0max\u001b[0m\u001b[0;34m,\u001b[0m \u001b[0;34m*\u001b[0m\u001b[0mmap\u001b[0m\u001b[0;34m(\u001b[0m\u001b[0msanitize_sequence\u001b[0m\u001b[0;34m,\u001b[0m \u001b[0margs\u001b[0m\u001b[0;34m)\u001b[0m\u001b[0;34m,\u001b[0m \u001b[0;34m**\u001b[0m\u001b[0mkwargs\u001b[0m\u001b[0;34m)\u001b[0m\u001b[0;34m\u001b[0m\u001b[0;34m\u001b[0m\u001b[0m\n\u001b[0m\u001b[1;32m   1566\u001b[0m \u001b[0;34m\u001b[0m\u001b[0m\n\u001b[1;32m   1567\u001b[0m         \u001b[0mbound\u001b[0m \u001b[0;34m=\u001b[0m \u001b[0mnew_sig\u001b[0m\u001b[0;34m.\u001b[0m\u001b[0mbind\u001b[0m\u001b[0;34m(\u001b[0m\u001b[0max\u001b[0m\u001b[0;34m,\u001b[0m \u001b[0;34m*\u001b[0m\u001b[0margs\u001b[0m\u001b[0;34m,\u001b[0m \u001b[0;34m**\u001b[0m\u001b[0mkwargs\u001b[0m\u001b[0;34m)\u001b[0m\u001b[0;34m\u001b[0m\u001b[0;34m\u001b[0m\u001b[0m\n",
            "\u001b[0;32m/usr/local/lib/python3.7/dist-packages/matplotlib/cbook/deprecation.py\u001b[0m in \u001b[0;36mwrapper\u001b[0;34m(*args, **kwargs)\u001b[0m\n\u001b[1;32m    356\u001b[0m                 \u001b[0;34mf\"%(removal)s.  If any parameter follows {name!r}, they \"\u001b[0m\u001b[0;34m\u001b[0m\u001b[0;34m\u001b[0m\u001b[0m\n\u001b[1;32m    357\u001b[0m                 f\"should be pass as keyword, not positionally.\")\n\u001b[0;32m--> 358\u001b[0;31m         \u001b[0;32mreturn\u001b[0m \u001b[0mfunc\u001b[0m\u001b[0;34m(\u001b[0m\u001b[0;34m*\u001b[0m\u001b[0margs\u001b[0m\u001b[0;34m,\u001b[0m \u001b[0;34m**\u001b[0m\u001b[0mkwargs\u001b[0m\u001b[0;34m)\u001b[0m\u001b[0;34m\u001b[0m\u001b[0;34m\u001b[0m\u001b[0m\n\u001b[0m\u001b[1;32m    359\u001b[0m \u001b[0;34m\u001b[0m\u001b[0m\n\u001b[1;32m    360\u001b[0m     \u001b[0;32mreturn\u001b[0m \u001b[0mwrapper\u001b[0m\u001b[0;34m\u001b[0m\u001b[0;34m\u001b[0m\u001b[0m\n",
            "\u001b[0;32m/usr/local/lib/python3.7/dist-packages/matplotlib/cbook/deprecation.py\u001b[0m in \u001b[0;36mwrapper\u001b[0;34m(*args, **kwargs)\u001b[0m\n\u001b[1;32m    356\u001b[0m                 \u001b[0;34mf\"%(removal)s.  If any parameter follows {name!r}, they \"\u001b[0m\u001b[0;34m\u001b[0m\u001b[0;34m\u001b[0m\u001b[0m\n\u001b[1;32m    357\u001b[0m                 f\"should be pass as keyword, not positionally.\")\n\u001b[0;32m--> 358\u001b[0;31m         \u001b[0;32mreturn\u001b[0m \u001b[0mfunc\u001b[0m\u001b[0;34m(\u001b[0m\u001b[0;34m*\u001b[0m\u001b[0margs\u001b[0m\u001b[0;34m,\u001b[0m \u001b[0;34m**\u001b[0m\u001b[0mkwargs\u001b[0m\u001b[0;34m)\u001b[0m\u001b[0;34m\u001b[0m\u001b[0;34m\u001b[0m\u001b[0m\n\u001b[0m\u001b[1;32m    359\u001b[0m \u001b[0;34m\u001b[0m\u001b[0m\n\u001b[1;32m    360\u001b[0m     \u001b[0;32mreturn\u001b[0m \u001b[0mwrapper\u001b[0m\u001b[0;34m\u001b[0m\u001b[0;34m\u001b[0m\u001b[0m\n",
            "\u001b[0;32m/usr/local/lib/python3.7/dist-packages/matplotlib/axes/_axes.py\u001b[0m in \u001b[0;36mimshow\u001b[0;34m(self, X, cmap, norm, aspect, interpolation, alpha, vmin, vmax, origin, extent, shape, filternorm, filterrad, imlim, resample, url, **kwargs)\u001b[0m\n\u001b[1;32m   5624\u001b[0m                               resample=resample, **kwargs)\n\u001b[1;32m   5625\u001b[0m \u001b[0;34m\u001b[0m\u001b[0m\n\u001b[0;32m-> 5626\u001b[0;31m         \u001b[0mim\u001b[0m\u001b[0;34m.\u001b[0m\u001b[0mset_data\u001b[0m\u001b[0;34m(\u001b[0m\u001b[0mX\u001b[0m\u001b[0;34m)\u001b[0m\u001b[0;34m\u001b[0m\u001b[0;34m\u001b[0m\u001b[0m\n\u001b[0m\u001b[1;32m   5627\u001b[0m         \u001b[0mim\u001b[0m\u001b[0;34m.\u001b[0m\u001b[0mset_alpha\u001b[0m\u001b[0;34m(\u001b[0m\u001b[0malpha\u001b[0m\u001b[0;34m)\u001b[0m\u001b[0;34m\u001b[0m\u001b[0;34m\u001b[0m\u001b[0m\n\u001b[1;32m   5628\u001b[0m         \u001b[0;32mif\u001b[0m \u001b[0mim\u001b[0m\u001b[0;34m.\u001b[0m\u001b[0mget_clip_path\u001b[0m\u001b[0;34m(\u001b[0m\u001b[0;34m)\u001b[0m \u001b[0;32mis\u001b[0m \u001b[0;32mNone\u001b[0m\u001b[0;34m:\u001b[0m\u001b[0;34m\u001b[0m\u001b[0;34m\u001b[0m\u001b[0m\n",
            "\u001b[0;32m/usr/local/lib/python3.7/dist-packages/matplotlib/image.py\u001b[0m in \u001b[0;36mset_data\u001b[0;34m(self, A)\u001b[0m\n\u001b[1;32m    697\u001b[0m                 or self._A.ndim == 3 and self._A.shape[-1] in [3, 4]):\n\u001b[1;32m    698\u001b[0m             raise TypeError(\"Invalid shape {} for image data\"\n\u001b[0;32m--> 699\u001b[0;31m                             .format(self._A.shape))\n\u001b[0m\u001b[1;32m    700\u001b[0m \u001b[0;34m\u001b[0m\u001b[0m\n\u001b[1;32m    701\u001b[0m         \u001b[0;32mif\u001b[0m \u001b[0mself\u001b[0m\u001b[0;34m.\u001b[0m\u001b[0m_A\u001b[0m\u001b[0;34m.\u001b[0m\u001b[0mndim\u001b[0m \u001b[0;34m==\u001b[0m \u001b[0;36m3\u001b[0m\u001b[0;34m:\u001b[0m\u001b[0;34m\u001b[0m\u001b[0;34m\u001b[0m\u001b[0m\n",
            "\u001b[0;31mTypeError\u001b[0m: Invalid shape (256, 256, 1) for image data"
          ]
        },
        {
          "output_type": "display_data",
          "data": {
            "image/png": "[encoded data removed]",
            "text/plain": [
              "<Figure size 432x288 with 3 Axes>"
            ]
          },
          "metadata": {
            "tags": [],
            "needs_background": "light"
          }
        }
      ]
    },
    {
      "cell_type": "code",
      "metadata": {
        "id": "HuHojwiJHsOU"
      },
      "source": [
        "import time\n",
        "from torch.autograd import Variable\n",
        "from sklearn.metrics import jaccard_similarity_score as jsc\n",
        "import segmentation_models_pytorch as smp"
      ],
      "execution_count": null,
      "outputs": []
    },
    {
      "cell_type": "code",
      "metadata": {
        "id": "2TFdJiFIH9cb"
      },
      "source": [
        ""
      ],
      "execution_count": null,
      "outputs": []
    },
    {
      "cell_type": "code",
      "metadata": {
        "id": "iG19P3I5H9hn"
      },
      "source": [
        ""
      ],
      "execution_count": null,
      "outputs": []
    },
    {
      "cell_type": "code",
      "metadata": {
        "id": "wP-L9hROH9li"
      },
      "source": [
        ""
      ],
      "execution_count": null,
      "outputs": []
    },
    {
      "cell_type": "code",
      "metadata": {
        "id": "l5gGM1w8id1z"
      },
      "source": [
        "### TEST"
      ],
      "execution_count": null,
      "outputs": []
    },
    {
      "cell_type": "code",
      "metadata": {
        "id": "L3FeKh24id9L"
      },
      "source": [
        ""
      ],
      "execution_count": null,
      "outputs": []
    },
    {
      "cell_type": "code",
      "metadata": {
        "id": "Yb0mnQXLieBl"
      },
      "source": [
        ""
      ],
      "execution_count": null,
      "outputs": []
    },
    {
      "cell_type": "code",
      "metadata": {
        "id": "3yaZX_c-ieGE"
      },
      "source": [
        ""
      ],
      "execution_count": null,
      "outputs": []
    }
  ]
}